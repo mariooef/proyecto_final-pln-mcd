{
  "nbformat": 4,
  "nbformat_minor": 0,
  "metadata": {
    "colab": {
      "provenance": []
    },
    "kernelspec": {
      "name": "python3",
      "display_name": "Python 3"
    },
    "language_info": {
      "name": "python"
    },
    "widgets": {
      "application/vnd.jupyter.widget-state+json": {
        "eb9af5b14d0c46eb81afdb8c2441b605": {
          "model_module": "@jupyter-widgets/controls",
          "model_name": "HBoxModel",
          "model_module_version": "1.5.0",
          "state": {
            "_dom_classes": [],
            "_model_module": "@jupyter-widgets/controls",
            "_model_module_version": "1.5.0",
            "_model_name": "HBoxModel",
            "_view_count": null,
            "_view_module": "@jupyter-widgets/controls",
            "_view_module_version": "1.5.0",
            "_view_name": "HBoxView",
            "box_style": "",
            "children": [
              "IPY_MODEL_d96cc2af382e4c9fbaf1b8f3e40e0d37",
              "IPY_MODEL_6ae4a81cd20e4c7aa4ff61519ef25faa",
              "IPY_MODEL_908a84f6a82143c2b0a5d23c117fdf50"
            ],
            "layout": "IPY_MODEL_84c3d75e0604449d90ff18b90076d528"
          }
        },
        "d96cc2af382e4c9fbaf1b8f3e40e0d37": {
          "model_module": "@jupyter-widgets/controls",
          "model_name": "HTMLModel",
          "model_module_version": "1.5.0",
          "state": {
            "_dom_classes": [],
            "_model_module": "@jupyter-widgets/controls",
            "_model_module_version": "1.5.0",
            "_model_name": "HTMLModel",
            "_view_count": null,
            "_view_module": "@jupyter-widgets/controls",
            "_view_module_version": "1.5.0",
            "_view_name": "HTMLView",
            "description": "",
            "description_tooltip": null,
            "layout": "IPY_MODEL_a2f10a85fe7c4b6999e51f6d612f6d80",
            "placeholder": "​",
            "style": "IPY_MODEL_bdeea2835554425fa9386539e3e9b527",
            "value": "tokenizer_config.json: 100%"
          }
        },
        "6ae4a81cd20e4c7aa4ff61519ef25faa": {
          "model_module": "@jupyter-widgets/controls",
          "model_name": "FloatProgressModel",
          "model_module_version": "1.5.0",
          "state": {
            "_dom_classes": [],
            "_model_module": "@jupyter-widgets/controls",
            "_model_module_version": "1.5.0",
            "_model_name": "FloatProgressModel",
            "_view_count": null,
            "_view_module": "@jupyter-widgets/controls",
            "_view_module_version": "1.5.0",
            "_view_name": "ProgressView",
            "bar_style": "success",
            "description": "",
            "description_tooltip": null,
            "layout": "IPY_MODEL_33041cc9a1e74c6ab55de2797a97944e",
            "max": 25,
            "min": 0,
            "orientation": "horizontal",
            "style": "IPY_MODEL_b5552e689af145bba33870d0c7321327",
            "value": 25
          }
        },
        "908a84f6a82143c2b0a5d23c117fdf50": {
          "model_module": "@jupyter-widgets/controls",
          "model_name": "HTMLModel",
          "model_module_version": "1.5.0",
          "state": {
            "_dom_classes": [],
            "_model_module": "@jupyter-widgets/controls",
            "_model_module_version": "1.5.0",
            "_model_name": "HTMLModel",
            "_view_count": null,
            "_view_module": "@jupyter-widgets/controls",
            "_view_module_version": "1.5.0",
            "_view_name": "HTMLView",
            "description": "",
            "description_tooltip": null,
            "layout": "IPY_MODEL_a15c3c7949ac45beaf2e2b26fb6a4e8a",
            "placeholder": "​",
            "style": "IPY_MODEL_11def2e16dfb4fc08ad3093d58dda13c",
            "value": " 25.0/25.0 [00:00&lt;00:00, 1.78kB/s]"
          }
        },
        "84c3d75e0604449d90ff18b90076d528": {
          "model_module": "@jupyter-widgets/base",
          "model_name": "LayoutModel",
          "model_module_version": "1.2.0",
          "state": {
            "_model_module": "@jupyter-widgets/base",
            "_model_module_version": "1.2.0",
            "_model_name": "LayoutModel",
            "_view_count": null,
            "_view_module": "@jupyter-widgets/base",
            "_view_module_version": "1.2.0",
            "_view_name": "LayoutView",
            "align_content": null,
            "align_items": null,
            "align_self": null,
            "border": null,
            "bottom": null,
            "display": null,
            "flex": null,
            "flex_flow": null,
            "grid_area": null,
            "grid_auto_columns": null,
            "grid_auto_flow": null,
            "grid_auto_rows": null,
            "grid_column": null,
            "grid_gap": null,
            "grid_row": null,
            "grid_template_areas": null,
            "grid_template_columns": null,
            "grid_template_rows": null,
            "height": null,
            "justify_content": null,
            "justify_items": null,
            "left": null,
            "margin": null,
            "max_height": null,
            "max_width": null,
            "min_height": null,
            "min_width": null,
            "object_fit": null,
            "object_position": null,
            "order": null,
            "overflow": null,
            "overflow_x": null,
            "overflow_y": null,
            "padding": null,
            "right": null,
            "top": null,
            "visibility": null,
            "width": null
          }
        },
        "a2f10a85fe7c4b6999e51f6d612f6d80": {
          "model_module": "@jupyter-widgets/base",
          "model_name": "LayoutModel",
          "model_module_version": "1.2.0",
          "state": {
            "_model_module": "@jupyter-widgets/base",
            "_model_module_version": "1.2.0",
            "_model_name": "LayoutModel",
            "_view_count": null,
            "_view_module": "@jupyter-widgets/base",
            "_view_module_version": "1.2.0",
            "_view_name": "LayoutView",
            "align_content": null,
            "align_items": null,
            "align_self": null,
            "border": null,
            "bottom": null,
            "display": null,
            "flex": null,
            "flex_flow": null,
            "grid_area": null,
            "grid_auto_columns": null,
            "grid_auto_flow": null,
            "grid_auto_rows": null,
            "grid_column": null,
            "grid_gap": null,
            "grid_row": null,
            "grid_template_areas": null,
            "grid_template_columns": null,
            "grid_template_rows": null,
            "height": null,
            "justify_content": null,
            "justify_items": null,
            "left": null,
            "margin": null,
            "max_height": null,
            "max_width": null,
            "min_height": null,
            "min_width": null,
            "object_fit": null,
            "object_position": null,
            "order": null,
            "overflow": null,
            "overflow_x": null,
            "overflow_y": null,
            "padding": null,
            "right": null,
            "top": null,
            "visibility": null,
            "width": null
          }
        },
        "bdeea2835554425fa9386539e3e9b527": {
          "model_module": "@jupyter-widgets/controls",
          "model_name": "DescriptionStyleModel",
          "model_module_version": "1.5.0",
          "state": {
            "_model_module": "@jupyter-widgets/controls",
            "_model_module_version": "1.5.0",
            "_model_name": "DescriptionStyleModel",
            "_view_count": null,
            "_view_module": "@jupyter-widgets/base",
            "_view_module_version": "1.2.0",
            "_view_name": "StyleView",
            "description_width": ""
          }
        },
        "33041cc9a1e74c6ab55de2797a97944e": {
          "model_module": "@jupyter-widgets/base",
          "model_name": "LayoutModel",
          "model_module_version": "1.2.0",
          "state": {
            "_model_module": "@jupyter-widgets/base",
            "_model_module_version": "1.2.0",
            "_model_name": "LayoutModel",
            "_view_count": null,
            "_view_module": "@jupyter-widgets/base",
            "_view_module_version": "1.2.0",
            "_view_name": "LayoutView",
            "align_content": null,
            "align_items": null,
            "align_self": null,
            "border": null,
            "bottom": null,
            "display": null,
            "flex": null,
            "flex_flow": null,
            "grid_area": null,
            "grid_auto_columns": null,
            "grid_auto_flow": null,
            "grid_auto_rows": null,
            "grid_column": null,
            "grid_gap": null,
            "grid_row": null,
            "grid_template_areas": null,
            "grid_template_columns": null,
            "grid_template_rows": null,
            "height": null,
            "justify_content": null,
            "justify_items": null,
            "left": null,
            "margin": null,
            "max_height": null,
            "max_width": null,
            "min_height": null,
            "min_width": null,
            "object_fit": null,
            "object_position": null,
            "order": null,
            "overflow": null,
            "overflow_x": null,
            "overflow_y": null,
            "padding": null,
            "right": null,
            "top": null,
            "visibility": null,
            "width": null
          }
        },
        "b5552e689af145bba33870d0c7321327": {
          "model_module": "@jupyter-widgets/controls",
          "model_name": "ProgressStyleModel",
          "model_module_version": "1.5.0",
          "state": {
            "_model_module": "@jupyter-widgets/controls",
            "_model_module_version": "1.5.0",
            "_model_name": "ProgressStyleModel",
            "_view_count": null,
            "_view_module": "@jupyter-widgets/base",
            "_view_module_version": "1.2.0",
            "_view_name": "StyleView",
            "bar_color": null,
            "description_width": ""
          }
        },
        "a15c3c7949ac45beaf2e2b26fb6a4e8a": {
          "model_module": "@jupyter-widgets/base",
          "model_name": "LayoutModel",
          "model_module_version": "1.2.0",
          "state": {
            "_model_module": "@jupyter-widgets/base",
            "_model_module_version": "1.2.0",
            "_model_name": "LayoutModel",
            "_view_count": null,
            "_view_module": "@jupyter-widgets/base",
            "_view_module_version": "1.2.0",
            "_view_name": "LayoutView",
            "align_content": null,
            "align_items": null,
            "align_self": null,
            "border": null,
            "bottom": null,
            "display": null,
            "flex": null,
            "flex_flow": null,
            "grid_area": null,
            "grid_auto_columns": null,
            "grid_auto_flow": null,
            "grid_auto_rows": null,
            "grid_column": null,
            "grid_gap": null,
            "grid_row": null,
            "grid_template_areas": null,
            "grid_template_columns": null,
            "grid_template_rows": null,
            "height": null,
            "justify_content": null,
            "justify_items": null,
            "left": null,
            "margin": null,
            "max_height": null,
            "max_width": null,
            "min_height": null,
            "min_width": null,
            "object_fit": null,
            "object_position": null,
            "order": null,
            "overflow": null,
            "overflow_x": null,
            "overflow_y": null,
            "padding": null,
            "right": null,
            "top": null,
            "visibility": null,
            "width": null
          }
        },
        "11def2e16dfb4fc08ad3093d58dda13c": {
          "model_module": "@jupyter-widgets/controls",
          "model_name": "DescriptionStyleModel",
          "model_module_version": "1.5.0",
          "state": {
            "_model_module": "@jupyter-widgets/controls",
            "_model_module_version": "1.5.0",
            "_model_name": "DescriptionStyleModel",
            "_view_count": null,
            "_view_module": "@jupyter-widgets/base",
            "_view_module_version": "1.2.0",
            "_view_name": "StyleView",
            "description_width": ""
          }
        },
        "2d68f44ddc734f10afe7a18cd5763a30": {
          "model_module": "@jupyter-widgets/controls",
          "model_name": "HBoxModel",
          "model_module_version": "1.5.0",
          "state": {
            "_dom_classes": [],
            "_model_module": "@jupyter-widgets/controls",
            "_model_module_version": "1.5.0",
            "_model_name": "HBoxModel",
            "_view_count": null,
            "_view_module": "@jupyter-widgets/controls",
            "_view_module_version": "1.5.0",
            "_view_name": "HBoxView",
            "box_style": "",
            "children": [
              "IPY_MODEL_6f1b58d55b3b485690bc0e577fce47c6",
              "IPY_MODEL_d56955762f7540b78956c844e9ef7cc2",
              "IPY_MODEL_01635db726c84b319dc6ae079797855c"
            ],
            "layout": "IPY_MODEL_e4722442dc8a44feaa742f3828d01f1e"
          }
        },
        "6f1b58d55b3b485690bc0e577fce47c6": {
          "model_module": "@jupyter-widgets/controls",
          "model_name": "HTMLModel",
          "model_module_version": "1.5.0",
          "state": {
            "_dom_classes": [],
            "_model_module": "@jupyter-widgets/controls",
            "_model_module_version": "1.5.0",
            "_model_name": "HTMLModel",
            "_view_count": null,
            "_view_module": "@jupyter-widgets/controls",
            "_view_module_version": "1.5.0",
            "_view_name": "HTMLView",
            "description": "",
            "description_tooltip": null,
            "layout": "IPY_MODEL_3743c0686944405aa77b49e93ffe7b9c",
            "placeholder": "​",
            "style": "IPY_MODEL_5ab54f38bbbf4a04b2a4965541457194",
            "value": "config.json: 100%"
          }
        },
        "d56955762f7540b78956c844e9ef7cc2": {
          "model_module": "@jupyter-widgets/controls",
          "model_name": "FloatProgressModel",
          "model_module_version": "1.5.0",
          "state": {
            "_dom_classes": [],
            "_model_module": "@jupyter-widgets/controls",
            "_model_module_version": "1.5.0",
            "_model_name": "FloatProgressModel",
            "_view_count": null,
            "_view_module": "@jupyter-widgets/controls",
            "_view_module_version": "1.5.0",
            "_view_name": "ProgressView",
            "bar_style": "success",
            "description": "",
            "description_tooltip": null,
            "layout": "IPY_MODEL_6a6bd1aec1b3408d99d622d882b6da68",
            "max": 684,
            "min": 0,
            "orientation": "horizontal",
            "style": "IPY_MODEL_fff4b75c427148c9a84a806ac62e97d3",
            "value": 684
          }
        },
        "01635db726c84b319dc6ae079797855c": {
          "model_module": "@jupyter-widgets/controls",
          "model_name": "HTMLModel",
          "model_module_version": "1.5.0",
          "state": {
            "_dom_classes": [],
            "_model_module": "@jupyter-widgets/controls",
            "_model_module_version": "1.5.0",
            "_model_name": "HTMLModel",
            "_view_count": null,
            "_view_module": "@jupyter-widgets/controls",
            "_view_module_version": "1.5.0",
            "_view_name": "HTMLView",
            "description": "",
            "description_tooltip": null,
            "layout": "IPY_MODEL_c3f0cac47b4b40e08ad7ede7a48750ba",
            "placeholder": "​",
            "style": "IPY_MODEL_da4fc523b3444a9c824363991c9ad607",
            "value": " 684/684 [00:00&lt;00:00, 58.5kB/s]"
          }
        },
        "e4722442dc8a44feaa742f3828d01f1e": {
          "model_module": "@jupyter-widgets/base",
          "model_name": "LayoutModel",
          "model_module_version": "1.2.0",
          "state": {
            "_model_module": "@jupyter-widgets/base",
            "_model_module_version": "1.2.0",
            "_model_name": "LayoutModel",
            "_view_count": null,
            "_view_module": "@jupyter-widgets/base",
            "_view_module_version": "1.2.0",
            "_view_name": "LayoutView",
            "align_content": null,
            "align_items": null,
            "align_self": null,
            "border": null,
            "bottom": null,
            "display": null,
            "flex": null,
            "flex_flow": null,
            "grid_area": null,
            "grid_auto_columns": null,
            "grid_auto_flow": null,
            "grid_auto_rows": null,
            "grid_column": null,
            "grid_gap": null,
            "grid_row": null,
            "grid_template_areas": null,
            "grid_template_columns": null,
            "grid_template_rows": null,
            "height": null,
            "justify_content": null,
            "justify_items": null,
            "left": null,
            "margin": null,
            "max_height": null,
            "max_width": null,
            "min_height": null,
            "min_width": null,
            "object_fit": null,
            "object_position": null,
            "order": null,
            "overflow": null,
            "overflow_x": null,
            "overflow_y": null,
            "padding": null,
            "right": null,
            "top": null,
            "visibility": null,
            "width": null
          }
        },
        "3743c0686944405aa77b49e93ffe7b9c": {
          "model_module": "@jupyter-widgets/base",
          "model_name": "LayoutModel",
          "model_module_version": "1.2.0",
          "state": {
            "_model_module": "@jupyter-widgets/base",
            "_model_module_version": "1.2.0",
            "_model_name": "LayoutModel",
            "_view_count": null,
            "_view_module": "@jupyter-widgets/base",
            "_view_module_version": "1.2.0",
            "_view_name": "LayoutView",
            "align_content": null,
            "align_items": null,
            "align_self": null,
            "border": null,
            "bottom": null,
            "display": null,
            "flex": null,
            "flex_flow": null,
            "grid_area": null,
            "grid_auto_columns": null,
            "grid_auto_flow": null,
            "grid_auto_rows": null,
            "grid_column": null,
            "grid_gap": null,
            "grid_row": null,
            "grid_template_areas": null,
            "grid_template_columns": null,
            "grid_template_rows": null,
            "height": null,
            "justify_content": null,
            "justify_items": null,
            "left": null,
            "margin": null,
            "max_height": null,
            "max_width": null,
            "min_height": null,
            "min_width": null,
            "object_fit": null,
            "object_position": null,
            "order": null,
            "overflow": null,
            "overflow_x": null,
            "overflow_y": null,
            "padding": null,
            "right": null,
            "top": null,
            "visibility": null,
            "width": null
          }
        },
        "5ab54f38bbbf4a04b2a4965541457194": {
          "model_module": "@jupyter-widgets/controls",
          "model_name": "DescriptionStyleModel",
          "model_module_version": "1.5.0",
          "state": {
            "_model_module": "@jupyter-widgets/controls",
            "_model_module_version": "1.5.0",
            "_model_name": "DescriptionStyleModel",
            "_view_count": null,
            "_view_module": "@jupyter-widgets/base",
            "_view_module_version": "1.2.0",
            "_view_name": "StyleView",
            "description_width": ""
          }
        },
        "6a6bd1aec1b3408d99d622d882b6da68": {
          "model_module": "@jupyter-widgets/base",
          "model_name": "LayoutModel",
          "model_module_version": "1.2.0",
          "state": {
            "_model_module": "@jupyter-widgets/base",
            "_model_module_version": "1.2.0",
            "_model_name": "LayoutModel",
            "_view_count": null,
            "_view_module": "@jupyter-widgets/base",
            "_view_module_version": "1.2.0",
            "_view_name": "LayoutView",
            "align_content": null,
            "align_items": null,
            "align_self": null,
            "border": null,
            "bottom": null,
            "display": null,
            "flex": null,
            "flex_flow": null,
            "grid_area": null,
            "grid_auto_columns": null,
            "grid_auto_flow": null,
            "grid_auto_rows": null,
            "grid_column": null,
            "grid_gap": null,
            "grid_row": null,
            "grid_template_areas": null,
            "grid_template_columns": null,
            "grid_template_rows": null,
            "height": null,
            "justify_content": null,
            "justify_items": null,
            "left": null,
            "margin": null,
            "max_height": null,
            "max_width": null,
            "min_height": null,
            "min_width": null,
            "object_fit": null,
            "object_position": null,
            "order": null,
            "overflow": null,
            "overflow_x": null,
            "overflow_y": null,
            "padding": null,
            "right": null,
            "top": null,
            "visibility": null,
            "width": null
          }
        },
        "fff4b75c427148c9a84a806ac62e97d3": {
          "model_module": "@jupyter-widgets/controls",
          "model_name": "ProgressStyleModel",
          "model_module_version": "1.5.0",
          "state": {
            "_model_module": "@jupyter-widgets/controls",
            "_model_module_version": "1.5.0",
            "_model_name": "ProgressStyleModel",
            "_view_count": null,
            "_view_module": "@jupyter-widgets/base",
            "_view_module_version": "1.2.0",
            "_view_name": "StyleView",
            "bar_color": null,
            "description_width": ""
          }
        },
        "c3f0cac47b4b40e08ad7ede7a48750ba": {
          "model_module": "@jupyter-widgets/base",
          "model_name": "LayoutModel",
          "model_module_version": "1.2.0",
          "state": {
            "_model_module": "@jupyter-widgets/base",
            "_model_module_version": "1.2.0",
            "_model_name": "LayoutModel",
            "_view_count": null,
            "_view_module": "@jupyter-widgets/base",
            "_view_module_version": "1.2.0",
            "_view_name": "LayoutView",
            "align_content": null,
            "align_items": null,
            "align_self": null,
            "border": null,
            "bottom": null,
            "display": null,
            "flex": null,
            "flex_flow": null,
            "grid_area": null,
            "grid_auto_columns": null,
            "grid_auto_flow": null,
            "grid_auto_rows": null,
            "grid_column": null,
            "grid_gap": null,
            "grid_row": null,
            "grid_template_areas": null,
            "grid_template_columns": null,
            "grid_template_rows": null,
            "height": null,
            "justify_content": null,
            "justify_items": null,
            "left": null,
            "margin": null,
            "max_height": null,
            "max_width": null,
            "min_height": null,
            "min_width": null,
            "object_fit": null,
            "object_position": null,
            "order": null,
            "overflow": null,
            "overflow_x": null,
            "overflow_y": null,
            "padding": null,
            "right": null,
            "top": null,
            "visibility": null,
            "width": null
          }
        },
        "da4fc523b3444a9c824363991c9ad607": {
          "model_module": "@jupyter-widgets/controls",
          "model_name": "DescriptionStyleModel",
          "model_module_version": "1.5.0",
          "state": {
            "_model_module": "@jupyter-widgets/controls",
            "_model_module_version": "1.5.0",
            "_model_name": "DescriptionStyleModel",
            "_view_count": null,
            "_view_module": "@jupyter-widgets/base",
            "_view_module_version": "1.2.0",
            "_view_name": "StyleView",
            "description_width": ""
          }
        },
        "62f07777444c4b108dd05681a9a5e243": {
          "model_module": "@jupyter-widgets/controls",
          "model_name": "HBoxModel",
          "model_module_version": "1.5.0",
          "state": {
            "_dom_classes": [],
            "_model_module": "@jupyter-widgets/controls",
            "_model_module_version": "1.5.0",
            "_model_name": "HBoxModel",
            "_view_count": null,
            "_view_module": "@jupyter-widgets/controls",
            "_view_module_version": "1.5.0",
            "_view_name": "HBoxView",
            "box_style": "",
            "children": [
              "IPY_MODEL_90baaa8c7448437b8b68de636dfcdfee",
              "IPY_MODEL_065a3afa494c48008b401ee09c2fae7e",
              "IPY_MODEL_64d991b3cda64dddaf255034a8bf0ac8"
            ],
            "layout": "IPY_MODEL_f7f972e5354e42b08811776e2f21f1b5"
          }
        },
        "90baaa8c7448437b8b68de636dfcdfee": {
          "model_module": "@jupyter-widgets/controls",
          "model_name": "HTMLModel",
          "model_module_version": "1.5.0",
          "state": {
            "_dom_classes": [],
            "_model_module": "@jupyter-widgets/controls",
            "_model_module_version": "1.5.0",
            "_model_name": "HTMLModel",
            "_view_count": null,
            "_view_module": "@jupyter-widgets/controls",
            "_view_module_version": "1.5.0",
            "_view_name": "HTMLView",
            "description": "",
            "description_tooltip": null,
            "layout": "IPY_MODEL_f756b100d7e84f3caecd3530b4c190a0",
            "placeholder": "​",
            "style": "IPY_MODEL_3f98bf9c883a4f45a34e69816ca3baa5",
            "value": "spiece.model: 100%"
          }
        },
        "065a3afa494c48008b401ee09c2fae7e": {
          "model_module": "@jupyter-widgets/controls",
          "model_name": "FloatProgressModel",
          "model_module_version": "1.5.0",
          "state": {
            "_dom_classes": [],
            "_model_module": "@jupyter-widgets/controls",
            "_model_module_version": "1.5.0",
            "_model_name": "FloatProgressModel",
            "_view_count": null,
            "_view_module": "@jupyter-widgets/controls",
            "_view_module_version": "1.5.0",
            "_view_name": "ProgressView",
            "bar_style": "success",
            "description": "",
            "description_tooltip": null,
            "layout": "IPY_MODEL_a38f6c4de17b463ba5ee956c89f14726",
            "max": 760289,
            "min": 0,
            "orientation": "horizontal",
            "style": "IPY_MODEL_c7f42c2798b84cabbf087798bf15d7f1",
            "value": 760289
          }
        },
        "64d991b3cda64dddaf255034a8bf0ac8": {
          "model_module": "@jupyter-widgets/controls",
          "model_name": "HTMLModel",
          "model_module_version": "1.5.0",
          "state": {
            "_dom_classes": [],
            "_model_module": "@jupyter-widgets/controls",
            "_model_module_version": "1.5.0",
            "_model_name": "HTMLModel",
            "_view_count": null,
            "_view_module": "@jupyter-widgets/controls",
            "_view_module_version": "1.5.0",
            "_view_name": "HTMLView",
            "description": "",
            "description_tooltip": null,
            "layout": "IPY_MODEL_dd9a11ac0d2d428ba4825ecac42e5975",
            "placeholder": "​",
            "style": "IPY_MODEL_66f7d30e9d1f4cb69d311ef4fd8fcb62",
            "value": " 760k/760k [00:00&lt;00:00, 11.2MB/s]"
          }
        },
        "f7f972e5354e42b08811776e2f21f1b5": {
          "model_module": "@jupyter-widgets/base",
          "model_name": "LayoutModel",
          "model_module_version": "1.2.0",
          "state": {
            "_model_module": "@jupyter-widgets/base",
            "_model_module_version": "1.2.0",
            "_model_name": "LayoutModel",
            "_view_count": null,
            "_view_module": "@jupyter-widgets/base",
            "_view_module_version": "1.2.0",
            "_view_name": "LayoutView",
            "align_content": null,
            "align_items": null,
            "align_self": null,
            "border": null,
            "bottom": null,
            "display": null,
            "flex": null,
            "flex_flow": null,
            "grid_area": null,
            "grid_auto_columns": null,
            "grid_auto_flow": null,
            "grid_auto_rows": null,
            "grid_column": null,
            "grid_gap": null,
            "grid_row": null,
            "grid_template_areas": null,
            "grid_template_columns": null,
            "grid_template_rows": null,
            "height": null,
            "justify_content": null,
            "justify_items": null,
            "left": null,
            "margin": null,
            "max_height": null,
            "max_width": null,
            "min_height": null,
            "min_width": null,
            "object_fit": null,
            "object_position": null,
            "order": null,
            "overflow": null,
            "overflow_x": null,
            "overflow_y": null,
            "padding": null,
            "right": null,
            "top": null,
            "visibility": null,
            "width": null
          }
        },
        "f756b100d7e84f3caecd3530b4c190a0": {
          "model_module": "@jupyter-widgets/base",
          "model_name": "LayoutModel",
          "model_module_version": "1.2.0",
          "state": {
            "_model_module": "@jupyter-widgets/base",
            "_model_module_version": "1.2.0",
            "_model_name": "LayoutModel",
            "_view_count": null,
            "_view_module": "@jupyter-widgets/base",
            "_view_module_version": "1.2.0",
            "_view_name": "LayoutView",
            "align_content": null,
            "align_items": null,
            "align_self": null,
            "border": null,
            "bottom": null,
            "display": null,
            "flex": null,
            "flex_flow": null,
            "grid_area": null,
            "grid_auto_columns": null,
            "grid_auto_flow": null,
            "grid_auto_rows": null,
            "grid_column": null,
            "grid_gap": null,
            "grid_row": null,
            "grid_template_areas": null,
            "grid_template_columns": null,
            "grid_template_rows": null,
            "height": null,
            "justify_content": null,
            "justify_items": null,
            "left": null,
            "margin": null,
            "max_height": null,
            "max_width": null,
            "min_height": null,
            "min_width": null,
            "object_fit": null,
            "object_position": null,
            "order": null,
            "overflow": null,
            "overflow_x": null,
            "overflow_y": null,
            "padding": null,
            "right": null,
            "top": null,
            "visibility": null,
            "width": null
          }
        },
        "3f98bf9c883a4f45a34e69816ca3baa5": {
          "model_module": "@jupyter-widgets/controls",
          "model_name": "DescriptionStyleModel",
          "model_module_version": "1.5.0",
          "state": {
            "_model_module": "@jupyter-widgets/controls",
            "_model_module_version": "1.5.0",
            "_model_name": "DescriptionStyleModel",
            "_view_count": null,
            "_view_module": "@jupyter-widgets/base",
            "_view_module_version": "1.2.0",
            "_view_name": "StyleView",
            "description_width": ""
          }
        },
        "a38f6c4de17b463ba5ee956c89f14726": {
          "model_module": "@jupyter-widgets/base",
          "model_name": "LayoutModel",
          "model_module_version": "1.2.0",
          "state": {
            "_model_module": "@jupyter-widgets/base",
            "_model_module_version": "1.2.0",
            "_model_name": "LayoutModel",
            "_view_count": null,
            "_view_module": "@jupyter-widgets/base",
            "_view_module_version": "1.2.0",
            "_view_name": "LayoutView",
            "align_content": null,
            "align_items": null,
            "align_self": null,
            "border": null,
            "bottom": null,
            "display": null,
            "flex": null,
            "flex_flow": null,
            "grid_area": null,
            "grid_auto_columns": null,
            "grid_auto_flow": null,
            "grid_auto_rows": null,
            "grid_column": null,
            "grid_gap": null,
            "grid_row": null,
            "grid_template_areas": null,
            "grid_template_columns": null,
            "grid_template_rows": null,
            "height": null,
            "justify_content": null,
            "justify_items": null,
            "left": null,
            "margin": null,
            "max_height": null,
            "max_width": null,
            "min_height": null,
            "min_width": null,
            "object_fit": null,
            "object_position": null,
            "order": null,
            "overflow": null,
            "overflow_x": null,
            "overflow_y": null,
            "padding": null,
            "right": null,
            "top": null,
            "visibility": null,
            "width": null
          }
        },
        "c7f42c2798b84cabbf087798bf15d7f1": {
          "model_module": "@jupyter-widgets/controls",
          "model_name": "ProgressStyleModel",
          "model_module_version": "1.5.0",
          "state": {
            "_model_module": "@jupyter-widgets/controls",
            "_model_module_version": "1.5.0",
            "_model_name": "ProgressStyleModel",
            "_view_count": null,
            "_view_module": "@jupyter-widgets/base",
            "_view_module_version": "1.2.0",
            "_view_name": "StyleView",
            "bar_color": null,
            "description_width": ""
          }
        },
        "dd9a11ac0d2d428ba4825ecac42e5975": {
          "model_module": "@jupyter-widgets/base",
          "model_name": "LayoutModel",
          "model_module_version": "1.2.0",
          "state": {
            "_model_module": "@jupyter-widgets/base",
            "_model_module_version": "1.2.0",
            "_model_name": "LayoutModel",
            "_view_count": null,
            "_view_module": "@jupyter-widgets/base",
            "_view_module_version": "1.2.0",
            "_view_name": "LayoutView",
            "align_content": null,
            "align_items": null,
            "align_self": null,
            "border": null,
            "bottom": null,
            "display": null,
            "flex": null,
            "flex_flow": null,
            "grid_area": null,
            "grid_auto_columns": null,
            "grid_auto_flow": null,
            "grid_auto_rows": null,
            "grid_column": null,
            "grid_gap": null,
            "grid_row": null,
            "grid_template_areas": null,
            "grid_template_columns": null,
            "grid_template_rows": null,
            "height": null,
            "justify_content": null,
            "justify_items": null,
            "left": null,
            "margin": null,
            "max_height": null,
            "max_width": null,
            "min_height": null,
            "min_width": null,
            "object_fit": null,
            "object_position": null,
            "order": null,
            "overflow": null,
            "overflow_x": null,
            "overflow_y": null,
            "padding": null,
            "right": null,
            "top": null,
            "visibility": null,
            "width": null
          }
        },
        "66f7d30e9d1f4cb69d311ef4fd8fcb62": {
          "model_module": "@jupyter-widgets/controls",
          "model_name": "DescriptionStyleModel",
          "model_module_version": "1.5.0",
          "state": {
            "_model_module": "@jupyter-widgets/controls",
            "_model_module_version": "1.5.0",
            "_model_name": "DescriptionStyleModel",
            "_view_count": null,
            "_view_module": "@jupyter-widgets/base",
            "_view_module_version": "1.2.0",
            "_view_name": "StyleView",
            "description_width": ""
          }
        },
        "2bbfb2cbc0c241b5b4abd44c3dbae091": {
          "model_module": "@jupyter-widgets/controls",
          "model_name": "HBoxModel",
          "model_module_version": "1.5.0",
          "state": {
            "_dom_classes": [],
            "_model_module": "@jupyter-widgets/controls",
            "_model_module_version": "1.5.0",
            "_model_name": "HBoxModel",
            "_view_count": null,
            "_view_module": "@jupyter-widgets/controls",
            "_view_module_version": "1.5.0",
            "_view_name": "HBoxView",
            "box_style": "",
            "children": [
              "IPY_MODEL_e9a2324ff352447c8faba4dba78de217",
              "IPY_MODEL_9ee7df331e514a9bbbd32a5f3780bb69",
              "IPY_MODEL_2e47ddce581f44bc8ac8e1187a48bb88"
            ],
            "layout": "IPY_MODEL_29f6f8c9fe16422c91a31db4bc220f03"
          }
        },
        "e9a2324ff352447c8faba4dba78de217": {
          "model_module": "@jupyter-widgets/controls",
          "model_name": "HTMLModel",
          "model_module_version": "1.5.0",
          "state": {
            "_dom_classes": [],
            "_model_module": "@jupyter-widgets/controls",
            "_model_module_version": "1.5.0",
            "_model_name": "HTMLModel",
            "_view_count": null,
            "_view_module": "@jupyter-widgets/controls",
            "_view_module_version": "1.5.0",
            "_view_name": "HTMLView",
            "description": "",
            "description_tooltip": null,
            "layout": "IPY_MODEL_fd0581da524f4450b60b00edc0c4efa7",
            "placeholder": "​",
            "style": "IPY_MODEL_9b9fdd52e4394b6c80528fadbd628275",
            "value": "tokenizer.json: 100%"
          }
        },
        "9ee7df331e514a9bbbd32a5f3780bb69": {
          "model_module": "@jupyter-widgets/controls",
          "model_name": "FloatProgressModel",
          "model_module_version": "1.5.0",
          "state": {
            "_dom_classes": [],
            "_model_module": "@jupyter-widgets/controls",
            "_model_module_version": "1.5.0",
            "_model_name": "FloatProgressModel",
            "_view_count": null,
            "_view_module": "@jupyter-widgets/controls",
            "_view_module_version": "1.5.0",
            "_view_name": "ProgressView",
            "bar_style": "success",
            "description": "",
            "description_tooltip": null,
            "layout": "IPY_MODEL_aaa944e407d14ac19046ba5a494f9fed",
            "max": 1312669,
            "min": 0,
            "orientation": "horizontal",
            "style": "IPY_MODEL_f0ccd4e445db473babebbb3b9f965bb4",
            "value": 1312669
          }
        },
        "2e47ddce581f44bc8ac8e1187a48bb88": {
          "model_module": "@jupyter-widgets/controls",
          "model_name": "HTMLModel",
          "model_module_version": "1.5.0",
          "state": {
            "_dom_classes": [],
            "_model_module": "@jupyter-widgets/controls",
            "_model_module_version": "1.5.0",
            "_model_name": "HTMLModel",
            "_view_count": null,
            "_view_module": "@jupyter-widgets/controls",
            "_view_module_version": "1.5.0",
            "_view_name": "HTMLView",
            "description": "",
            "description_tooltip": null,
            "layout": "IPY_MODEL_d2e5bfe472434ff3bc9d2b563a96b758",
            "placeholder": "​",
            "style": "IPY_MODEL_8f68e14bf9614154b80219f242808aa2",
            "value": " 1.31M/1.31M [00:00&lt;00:00, 41.3MB/s]"
          }
        },
        "29f6f8c9fe16422c91a31db4bc220f03": {
          "model_module": "@jupyter-widgets/base",
          "model_name": "LayoutModel",
          "model_module_version": "1.2.0",
          "state": {
            "_model_module": "@jupyter-widgets/base",
            "_model_module_version": "1.2.0",
            "_model_name": "LayoutModel",
            "_view_count": null,
            "_view_module": "@jupyter-widgets/base",
            "_view_module_version": "1.2.0",
            "_view_name": "LayoutView",
            "align_content": null,
            "align_items": null,
            "align_self": null,
            "border": null,
            "bottom": null,
            "display": null,
            "flex": null,
            "flex_flow": null,
            "grid_area": null,
            "grid_auto_columns": null,
            "grid_auto_flow": null,
            "grid_auto_rows": null,
            "grid_column": null,
            "grid_gap": null,
            "grid_row": null,
            "grid_template_areas": null,
            "grid_template_columns": null,
            "grid_template_rows": null,
            "height": null,
            "justify_content": null,
            "justify_items": null,
            "left": null,
            "margin": null,
            "max_height": null,
            "max_width": null,
            "min_height": null,
            "min_width": null,
            "object_fit": null,
            "object_position": null,
            "order": null,
            "overflow": null,
            "overflow_x": null,
            "overflow_y": null,
            "padding": null,
            "right": null,
            "top": null,
            "visibility": null,
            "width": null
          }
        },
        "fd0581da524f4450b60b00edc0c4efa7": {
          "model_module": "@jupyter-widgets/base",
          "model_name": "LayoutModel",
          "model_module_version": "1.2.0",
          "state": {
            "_model_module": "@jupyter-widgets/base",
            "_model_module_version": "1.2.0",
            "_model_name": "LayoutModel",
            "_view_count": null,
            "_view_module": "@jupyter-widgets/base",
            "_view_module_version": "1.2.0",
            "_view_name": "LayoutView",
            "align_content": null,
            "align_items": null,
            "align_self": null,
            "border": null,
            "bottom": null,
            "display": null,
            "flex": null,
            "flex_flow": null,
            "grid_area": null,
            "grid_auto_columns": null,
            "grid_auto_flow": null,
            "grid_auto_rows": null,
            "grid_column": null,
            "grid_gap": null,
            "grid_row": null,
            "grid_template_areas": null,
            "grid_template_columns": null,
            "grid_template_rows": null,
            "height": null,
            "justify_content": null,
            "justify_items": null,
            "left": null,
            "margin": null,
            "max_height": null,
            "max_width": null,
            "min_height": null,
            "min_width": null,
            "object_fit": null,
            "object_position": null,
            "order": null,
            "overflow": null,
            "overflow_x": null,
            "overflow_y": null,
            "padding": null,
            "right": null,
            "top": null,
            "visibility": null,
            "width": null
          }
        },
        "9b9fdd52e4394b6c80528fadbd628275": {
          "model_module": "@jupyter-widgets/controls",
          "model_name": "DescriptionStyleModel",
          "model_module_version": "1.5.0",
          "state": {
            "_model_module": "@jupyter-widgets/controls",
            "_model_module_version": "1.5.0",
            "_model_name": "DescriptionStyleModel",
            "_view_count": null,
            "_view_module": "@jupyter-widgets/base",
            "_view_module_version": "1.2.0",
            "_view_name": "StyleView",
            "description_width": ""
          }
        },
        "aaa944e407d14ac19046ba5a494f9fed": {
          "model_module": "@jupyter-widgets/base",
          "model_name": "LayoutModel",
          "model_module_version": "1.2.0",
          "state": {
            "_model_module": "@jupyter-widgets/base",
            "_model_module_version": "1.2.0",
            "_model_name": "LayoutModel",
            "_view_count": null,
            "_view_module": "@jupyter-widgets/base",
            "_view_module_version": "1.2.0",
            "_view_name": "LayoutView",
            "align_content": null,
            "align_items": null,
            "align_self": null,
            "border": null,
            "bottom": null,
            "display": null,
            "flex": null,
            "flex_flow": null,
            "grid_area": null,
            "grid_auto_columns": null,
            "grid_auto_flow": null,
            "grid_auto_rows": null,
            "grid_column": null,
            "grid_gap": null,
            "grid_row": null,
            "grid_template_areas": null,
            "grid_template_columns": null,
            "grid_template_rows": null,
            "height": null,
            "justify_content": null,
            "justify_items": null,
            "left": null,
            "margin": null,
            "max_height": null,
            "max_width": null,
            "min_height": null,
            "min_width": null,
            "object_fit": null,
            "object_position": null,
            "order": null,
            "overflow": null,
            "overflow_x": null,
            "overflow_y": null,
            "padding": null,
            "right": null,
            "top": null,
            "visibility": null,
            "width": null
          }
        },
        "f0ccd4e445db473babebbb3b9f965bb4": {
          "model_module": "@jupyter-widgets/controls",
          "model_name": "ProgressStyleModel",
          "model_module_version": "1.5.0",
          "state": {
            "_model_module": "@jupyter-widgets/controls",
            "_model_module_version": "1.5.0",
            "_model_name": "ProgressStyleModel",
            "_view_count": null,
            "_view_module": "@jupyter-widgets/base",
            "_view_module_version": "1.2.0",
            "_view_name": "StyleView",
            "bar_color": null,
            "description_width": ""
          }
        },
        "d2e5bfe472434ff3bc9d2b563a96b758": {
          "model_module": "@jupyter-widgets/base",
          "model_name": "LayoutModel",
          "model_module_version": "1.2.0",
          "state": {
            "_model_module": "@jupyter-widgets/base",
            "_model_module_version": "1.2.0",
            "_model_name": "LayoutModel",
            "_view_count": null,
            "_view_module": "@jupyter-widgets/base",
            "_view_module_version": "1.2.0",
            "_view_name": "LayoutView",
            "align_content": null,
            "align_items": null,
            "align_self": null,
            "border": null,
            "bottom": null,
            "display": null,
            "flex": null,
            "flex_flow": null,
            "grid_area": null,
            "grid_auto_columns": null,
            "grid_auto_flow": null,
            "grid_auto_rows": null,
            "grid_column": null,
            "grid_gap": null,
            "grid_row": null,
            "grid_template_areas": null,
            "grid_template_columns": null,
            "grid_template_rows": null,
            "height": null,
            "justify_content": null,
            "justify_items": null,
            "left": null,
            "margin": null,
            "max_height": null,
            "max_width": null,
            "min_height": null,
            "min_width": null,
            "object_fit": null,
            "object_position": null,
            "order": null,
            "overflow": null,
            "overflow_x": null,
            "overflow_y": null,
            "padding": null,
            "right": null,
            "top": null,
            "visibility": null,
            "width": null
          }
        },
        "8f68e14bf9614154b80219f242808aa2": {
          "model_module": "@jupyter-widgets/controls",
          "model_name": "DescriptionStyleModel",
          "model_module_version": "1.5.0",
          "state": {
            "_model_module": "@jupyter-widgets/controls",
            "_model_module_version": "1.5.0",
            "_model_name": "DescriptionStyleModel",
            "_view_count": null,
            "_view_module": "@jupyter-widgets/base",
            "_view_module_version": "1.2.0",
            "_view_name": "StyleView",
            "description_width": ""
          }
        },
        "5fa8d89001b04078b4bd201a0f925cbf": {
          "model_module": "@jupyter-widgets/controls",
          "model_name": "HBoxModel",
          "model_module_version": "1.5.0",
          "state": {
            "_dom_classes": [],
            "_model_module": "@jupyter-widgets/controls",
            "_model_module_version": "1.5.0",
            "_model_name": "HBoxModel",
            "_view_count": null,
            "_view_module": "@jupyter-widgets/controls",
            "_view_module_version": "1.5.0",
            "_view_name": "HBoxView",
            "box_style": "",
            "children": [
              "IPY_MODEL_f996bbeaf62f452db97e3c6e2e60aac9",
              "IPY_MODEL_3f40d7ed7ac14106b7b891929bf68ffa",
              "IPY_MODEL_e11cec0ce42f444c86db71ac929e3994"
            ],
            "layout": "IPY_MODEL_2c61104753be4c3d9c9fceb025c191cd"
          }
        },
        "f996bbeaf62f452db97e3c6e2e60aac9": {
          "model_module": "@jupyter-widgets/controls",
          "model_name": "HTMLModel",
          "model_module_version": "1.5.0",
          "state": {
            "_dom_classes": [],
            "_model_module": "@jupyter-widgets/controls",
            "_model_module_version": "1.5.0",
            "_model_name": "HTMLModel",
            "_view_count": null,
            "_view_module": "@jupyter-widgets/controls",
            "_view_module_version": "1.5.0",
            "_view_name": "HTMLView",
            "description": "",
            "description_tooltip": null,
            "layout": "IPY_MODEL_e8149cea9bd545e2b1a3e4037596daea",
            "placeholder": "​",
            "style": "IPY_MODEL_4c7f2d6742b943108ab27afe4cab5340",
            "value": "model.safetensors: 100%"
          }
        },
        "3f40d7ed7ac14106b7b891929bf68ffa": {
          "model_module": "@jupyter-widgets/controls",
          "model_name": "FloatProgressModel",
          "model_module_version": "1.5.0",
          "state": {
            "_dom_classes": [],
            "_model_module": "@jupyter-widgets/controls",
            "_model_module_version": "1.5.0",
            "_model_name": "FloatProgressModel",
            "_view_count": null,
            "_view_module": "@jupyter-widgets/controls",
            "_view_module_version": "1.5.0",
            "_view_name": "ProgressView",
            "bar_style": "success",
            "description": "",
            "description_tooltip": null,
            "layout": "IPY_MODEL_23d659c1250e49689864b8bde9b20932",
            "max": 47372894,
            "min": 0,
            "orientation": "horizontal",
            "style": "IPY_MODEL_3955701683c14fed9af78db743458a74",
            "value": 47372894
          }
        },
        "e11cec0ce42f444c86db71ac929e3994": {
          "model_module": "@jupyter-widgets/controls",
          "model_name": "HTMLModel",
          "model_module_version": "1.5.0",
          "state": {
            "_dom_classes": [],
            "_model_module": "@jupyter-widgets/controls",
            "_model_module_version": "1.5.0",
            "_model_name": "HTMLModel",
            "_view_count": null,
            "_view_module": "@jupyter-widgets/controls",
            "_view_module_version": "1.5.0",
            "_view_name": "HTMLView",
            "description": "",
            "description_tooltip": null,
            "layout": "IPY_MODEL_10b309e00b0e424da03b4865dcd5ef29",
            "placeholder": "​",
            "style": "IPY_MODEL_2cfddb361ded48c89951695fd38991fc",
            "value": " 47.4M/47.4M [00:00&lt;00:00, 89.0MB/s]"
          }
        },
        "2c61104753be4c3d9c9fceb025c191cd": {
          "model_module": "@jupyter-widgets/base",
          "model_name": "LayoutModel",
          "model_module_version": "1.2.0",
          "state": {
            "_model_module": "@jupyter-widgets/base",
            "_model_module_version": "1.2.0",
            "_model_name": "LayoutModel",
            "_view_count": null,
            "_view_module": "@jupyter-widgets/base",
            "_view_module_version": "1.2.0",
            "_view_name": "LayoutView",
            "align_content": null,
            "align_items": null,
            "align_self": null,
            "border": null,
            "bottom": null,
            "display": null,
            "flex": null,
            "flex_flow": null,
            "grid_area": null,
            "grid_auto_columns": null,
            "grid_auto_flow": null,
            "grid_auto_rows": null,
            "grid_column": null,
            "grid_gap": null,
            "grid_row": null,
            "grid_template_areas": null,
            "grid_template_columns": null,
            "grid_template_rows": null,
            "height": null,
            "justify_content": null,
            "justify_items": null,
            "left": null,
            "margin": null,
            "max_height": null,
            "max_width": null,
            "min_height": null,
            "min_width": null,
            "object_fit": null,
            "object_position": null,
            "order": null,
            "overflow": null,
            "overflow_x": null,
            "overflow_y": null,
            "padding": null,
            "right": null,
            "top": null,
            "visibility": null,
            "width": null
          }
        },
        "e8149cea9bd545e2b1a3e4037596daea": {
          "model_module": "@jupyter-widgets/base",
          "model_name": "LayoutModel",
          "model_module_version": "1.2.0",
          "state": {
            "_model_module": "@jupyter-widgets/base",
            "_model_module_version": "1.2.0",
            "_model_name": "LayoutModel",
            "_view_count": null,
            "_view_module": "@jupyter-widgets/base",
            "_view_module_version": "1.2.0",
            "_view_name": "LayoutView",
            "align_content": null,
            "align_items": null,
            "align_self": null,
            "border": null,
            "bottom": null,
            "display": null,
            "flex": null,
            "flex_flow": null,
            "grid_area": null,
            "grid_auto_columns": null,
            "grid_auto_flow": null,
            "grid_auto_rows": null,
            "grid_column": null,
            "grid_gap": null,
            "grid_row": null,
            "grid_template_areas": null,
            "grid_template_columns": null,
            "grid_template_rows": null,
            "height": null,
            "justify_content": null,
            "justify_items": null,
            "left": null,
            "margin": null,
            "max_height": null,
            "max_width": null,
            "min_height": null,
            "min_width": null,
            "object_fit": null,
            "object_position": null,
            "order": null,
            "overflow": null,
            "overflow_x": null,
            "overflow_y": null,
            "padding": null,
            "right": null,
            "top": null,
            "visibility": null,
            "width": null
          }
        },
        "4c7f2d6742b943108ab27afe4cab5340": {
          "model_module": "@jupyter-widgets/controls",
          "model_name": "DescriptionStyleModel",
          "model_module_version": "1.5.0",
          "state": {
            "_model_module": "@jupyter-widgets/controls",
            "_model_module_version": "1.5.0",
            "_model_name": "DescriptionStyleModel",
            "_view_count": null,
            "_view_module": "@jupyter-widgets/base",
            "_view_module_version": "1.2.0",
            "_view_name": "StyleView",
            "description_width": ""
          }
        },
        "23d659c1250e49689864b8bde9b20932": {
          "model_module": "@jupyter-widgets/base",
          "model_name": "LayoutModel",
          "model_module_version": "1.2.0",
          "state": {
            "_model_module": "@jupyter-widgets/base",
            "_model_module_version": "1.2.0",
            "_model_name": "LayoutModel",
            "_view_count": null,
            "_view_module": "@jupyter-widgets/base",
            "_view_module_version": "1.2.0",
            "_view_name": "LayoutView",
            "align_content": null,
            "align_items": null,
            "align_self": null,
            "border": null,
            "bottom": null,
            "display": null,
            "flex": null,
            "flex_flow": null,
            "grid_area": null,
            "grid_auto_columns": null,
            "grid_auto_flow": null,
            "grid_auto_rows": null,
            "grid_column": null,
            "grid_gap": null,
            "grid_row": null,
            "grid_template_areas": null,
            "grid_template_columns": null,
            "grid_template_rows": null,
            "height": null,
            "justify_content": null,
            "justify_items": null,
            "left": null,
            "margin": null,
            "max_height": null,
            "max_width": null,
            "min_height": null,
            "min_width": null,
            "object_fit": null,
            "object_position": null,
            "order": null,
            "overflow": null,
            "overflow_x": null,
            "overflow_y": null,
            "padding": null,
            "right": null,
            "top": null,
            "visibility": null,
            "width": null
          }
        },
        "3955701683c14fed9af78db743458a74": {
          "model_module": "@jupyter-widgets/controls",
          "model_name": "ProgressStyleModel",
          "model_module_version": "1.5.0",
          "state": {
            "_model_module": "@jupyter-widgets/controls",
            "_model_module_version": "1.5.0",
            "_model_name": "ProgressStyleModel",
            "_view_count": null,
            "_view_module": "@jupyter-widgets/base",
            "_view_module_version": "1.2.0",
            "_view_name": "StyleView",
            "bar_color": null,
            "description_width": ""
          }
        },
        "10b309e00b0e424da03b4865dcd5ef29": {
          "model_module": "@jupyter-widgets/base",
          "model_name": "LayoutModel",
          "model_module_version": "1.2.0",
          "state": {
            "_model_module": "@jupyter-widgets/base",
            "_model_module_version": "1.2.0",
            "_model_name": "LayoutModel",
            "_view_count": null,
            "_view_module": "@jupyter-widgets/base",
            "_view_module_version": "1.2.0",
            "_view_name": "LayoutView",
            "align_content": null,
            "align_items": null,
            "align_self": null,
            "border": null,
            "bottom": null,
            "display": null,
            "flex": null,
            "flex_flow": null,
            "grid_area": null,
            "grid_auto_columns": null,
            "grid_auto_flow": null,
            "grid_auto_rows": null,
            "grid_column": null,
            "grid_gap": null,
            "grid_row": null,
            "grid_template_areas": null,
            "grid_template_columns": null,
            "grid_template_rows": null,
            "height": null,
            "justify_content": null,
            "justify_items": null,
            "left": null,
            "margin": null,
            "max_height": null,
            "max_width": null,
            "min_height": null,
            "min_width": null,
            "object_fit": null,
            "object_position": null,
            "order": null,
            "overflow": null,
            "overflow_x": null,
            "overflow_y": null,
            "padding": null,
            "right": null,
            "top": null,
            "visibility": null,
            "width": null
          }
        },
        "2cfddb361ded48c89951695fd38991fc": {
          "model_module": "@jupyter-widgets/controls",
          "model_name": "DescriptionStyleModel",
          "model_module_version": "1.5.0",
          "state": {
            "_model_module": "@jupyter-widgets/controls",
            "_model_module_version": "1.5.0",
            "_model_name": "DescriptionStyleModel",
            "_view_count": null,
            "_view_module": "@jupyter-widgets/base",
            "_view_module_version": "1.2.0",
            "_view_name": "StyleView",
            "description_width": ""
          }
        }
      }
    }
  },
  "cells": [
    {
      "cell_type": "markdown",
      "source": [
        "# **PLN Proyecto Final**"
      ],
      "metadata": {
        "id": "dzCDlhaJlKVW"
      }
    },
    {
      "cell_type": "markdown",
      "source": [
        "\n",
        "\n",
        "> En caso de solamante querer evaluar el modelo, cargando ya un modelo guardado, con datos de testeo para usar el modelo, ejecuta la seccion:\n",
        "* 1. Importación de librerías\n",
        "* 5. Limpieza y Preprocesamiento\n",
        "* pasa a la seccion 12. PROBANDO EL MODELO\n",
        "\n",
        "\n",
        "\n",
        "> Si quieres entrenar de nuevo un modelo, sigue los pasos, para entrenar un modelo a partir de un lote distinto de datos o bien la muestra de datos con la que se entreno el modelo, las instrucciones a partir de la seccion 2 de esta libreta, ejecuta primereo la seccion 1.\n",
        "\n",
        "\n",
        "\n",
        "\n"
      ],
      "metadata": {
        "id": "uDZK-FFGZda0"
      }
    },
    {
      "cell_type": "markdown",
      "source": [
        "## 1. Importación de librerías"
      ],
      "metadata": {
        "id": "oGHq3eyfDph7"
      }
    },
    {
      "cell_type": "code",
      "execution_count": 1,
      "metadata": {
        "id": "wljjm3L5j1dp"
      },
      "outputs": [],
      "source": [
        "import pandas as pd\n",
        "from sklearn.preprocessing import LabelEncoder\n",
        "from sklearn.model_selection import train_test_split\n",
        "\n",
        "import nltk\n",
        "from nltk import word_tokenize\n",
        "from nltk.corpus import stopwords\n",
        "import re\n",
        "from string import punctuation\n",
        "from bs4 import BeautifulSoup  # Librería útil para manejar HTML\n",
        "\n",
        "import torch\n",
        "from transformers import AutoTokenizer, AutoModelForSequenceClassification, Trainer, TrainingArguments\n",
        "from sklearn.metrics import accuracy_score, precision_recall_fscore_support, classification_report, confusion_matrix, roc_auc_score\n",
        "import matplotlib.pyplot as plt\n",
        "import seaborn as sns\n",
        "import numpy as np\n",
        "\n",
        "from sklearn.metrics import accuracy_score, precision_recall_fscore_support"
      ]
    },
    {
      "cell_type": "markdown",
      "source": [
        "\n",
        "\n",
        "---\n",
        "\n"
      ],
      "metadata": {
        "id": "iJgxBVsZ9XjU"
      }
    },
    {
      "cell_type": "markdown",
      "source": [
        "## 2. Descargando datos y preparación inicial del dataset"
      ],
      "metadata": {
        "id": "UY3Bf2rXldoz"
      }
    },
    {
      "cell_type": "markdown",
      "source": [
        "\n",
        "\n",
        "> En caso de querer descargar los datos originales y realizar el proceso de tomar una nueva muestra para entrenar favor de descomentar cada paso , en caso contrario pasar a la seccion B y cargar un archivo sample_raw\n",
        "\n"
      ],
      "metadata": {
        "id": "QLLcUXgA70wC"
      }
    },
    {
      "cell_type": "markdown",
      "source": [
        "\n",
        "> Esta parte se puede omitir al menos que no se tenga el sample del conjunto de datos con lo que se entreno el modelo, entonces se procede a descargar el dataset original y prepararlo para trabjar con el.\n",
        "\n",
        "\n",
        "> Pasa a la Seccion B en caso de que tenga ya un archivo de mueestra"
      ],
      "metadata": {
        "id": "jCoeMcBmFNer"
      }
    },
    {
      "cell_type": "markdown",
      "source": [
        "PASO 1"
      ],
      "metadata": {
        "id": "MTP4kcu-8Ms0"
      }
    },
    {
      "cell_type": "code",
      "source": [
        "#!gdown 1Kve4q1mpp-EYxAOfKO3lwUAwpYon7_s_ #DESCOMENTA EN CASO DE NECESITARLO"
      ],
      "metadata": {
        "colab": {
          "base_uri": "https://localhost:8080/"
        },
        "id": "jxwEdAf4lQa4",
        "outputId": "c5e8c434-5579-4bc4-bd50-3b42ac7ab6bb"
      },
      "execution_count": null,
      "outputs": [
        {
          "output_type": "stream",
          "name": "stdout",
          "text": [
            "Downloading...\n",
            "From (original): https://drive.google.com/uc?id=1Kve4q1mpp-EYxAOfKO3lwUAwpYon7_s_\n",
            "From (redirected): https://drive.google.com/uc?id=1Kve4q1mpp-EYxAOfKO3lwUAwpYon7_s_&confirm=t&uuid=d5128969-4cc7-4377-bd7f-4f6c511a95dc\n",
            "To: /content/final-train.csv\n",
            "100% 199M/199M [00:00<00:00, 216MB/s]\n"
          ]
        }
      ]
    },
    {
      "cell_type": "markdown",
      "source": [
        "PASO 2"
      ],
      "metadata": {
        "id": "_UZZtdrr8PGM"
      }
    },
    {
      "cell_type": "code",
      "source": [
        "#df = pd.read_csv('final-train.csv') #DESCOMENTA EN CASO DE NECESITARLO\n",
        "#df #DESCOMENTA EN CASO DE NECESITARLO"
      ],
      "metadata": {
        "colab": {
          "base_uri": "https://localhost:8080/",
          "height": 423
        },
        "id": "WNBcwSyXlSzK",
        "outputId": "0f8f0c6b-414c-477d-a790-3efb8af614ba"
      },
      "execution_count": null,
      "outputs": [
        {
          "output_type": "execute_result",
          "data": {
            "text/plain": [
              "                                                  Summary  \\\n",
              "0             Can really notice when I am not drinking it   \n",
              "1                                 Okay, just not the best   \n",
              "2       goo source of fiber, not so much a source of c...   \n",
              "3                                         Great GF Staple   \n",
              "4       Coffee just doesn't taste right without Sweet ...   \n",
              "...                                                   ...   \n",
              "426335                                    funnel cake mix   \n",
              "426336                                 Yummy Fruit Snacks   \n",
              "426337                                       Great coffee   \n",
              "426338                         Earl Grey of Earl Grey +++   \n",
              "426339                Excellent Quality; my dogs LOVE it!   \n",
              "\n",
              "                                                     Text  Score  \n",
              "0       I have had hormone problems in the past couple...      5  \n",
              "1       This is a decent balsamic glaze/reducation.<br...      4  \n",
              "2       the cookie is moist and chewy and has a great ...      3  \n",
              "3       I have a 4 yr old and a 2 yr old that can't ea...      5  \n",
              "4       We have drunk our coffee for 45 years using th...      5  \n",
              "...                                                   ...    ...  \n",
              "426335  This is very good and just like the gourmet on...      4  \n",
              "426336  I bought these for my kids but find myself eat...      5  \n",
              "426337  eight oclock makes great coffee and with balan...      5  \n",
              "426338  I already liked regular Stash Earl Grey and so...      5  \n",
              "426339  I have 5-7 dogs at any given time, sometimes f...      5  \n",
              "\n",
              "[426340 rows x 3 columns]"
            ],
            "text/html": [
              "\n",
              "  <div id=\"df-dec1a2b4-9712-4a09-b823-946db4ecabd0\" class=\"colab-df-container\">\n",
              "    <div>\n",
              "<style scoped>\n",
              "    .dataframe tbody tr th:only-of-type {\n",
              "        vertical-align: middle;\n",
              "    }\n",
              "\n",
              "    .dataframe tbody tr th {\n",
              "        vertical-align: top;\n",
              "    }\n",
              "\n",
              "    .dataframe thead th {\n",
              "        text-align: right;\n",
              "    }\n",
              "</style>\n",
              "<table border=\"1\" class=\"dataframe\">\n",
              "  <thead>\n",
              "    <tr style=\"text-align: right;\">\n",
              "      <th></th>\n",
              "      <th>Summary</th>\n",
              "      <th>Text</th>\n",
              "      <th>Score</th>\n",
              "    </tr>\n",
              "  </thead>\n",
              "  <tbody>\n",
              "    <tr>\n",
              "      <th>0</th>\n",
              "      <td>Can really notice when I am not drinking it</td>\n",
              "      <td>I have had hormone problems in the past couple...</td>\n",
              "      <td>5</td>\n",
              "    </tr>\n",
              "    <tr>\n",
              "      <th>1</th>\n",
              "      <td>Okay, just not the best</td>\n",
              "      <td>This is a decent balsamic glaze/reducation.&lt;br...</td>\n",
              "      <td>4</td>\n",
              "    </tr>\n",
              "    <tr>\n",
              "      <th>2</th>\n",
              "      <td>goo source of fiber, not so much a source of c...</td>\n",
              "      <td>the cookie is moist and chewy and has a great ...</td>\n",
              "      <td>3</td>\n",
              "    </tr>\n",
              "    <tr>\n",
              "      <th>3</th>\n",
              "      <td>Great GF Staple</td>\n",
              "      <td>I have a 4 yr old and a 2 yr old that can't ea...</td>\n",
              "      <td>5</td>\n",
              "    </tr>\n",
              "    <tr>\n",
              "      <th>4</th>\n",
              "      <td>Coffee just doesn't taste right without Sweet ...</td>\n",
              "      <td>We have drunk our coffee for 45 years using th...</td>\n",
              "      <td>5</td>\n",
              "    </tr>\n",
              "    <tr>\n",
              "      <th>...</th>\n",
              "      <td>...</td>\n",
              "      <td>...</td>\n",
              "      <td>...</td>\n",
              "    </tr>\n",
              "    <tr>\n",
              "      <th>426335</th>\n",
              "      <td>funnel cake mix</td>\n",
              "      <td>This is very good and just like the gourmet on...</td>\n",
              "      <td>4</td>\n",
              "    </tr>\n",
              "    <tr>\n",
              "      <th>426336</th>\n",
              "      <td>Yummy Fruit Snacks</td>\n",
              "      <td>I bought these for my kids but find myself eat...</td>\n",
              "      <td>5</td>\n",
              "    </tr>\n",
              "    <tr>\n",
              "      <th>426337</th>\n",
              "      <td>Great coffee</td>\n",
              "      <td>eight oclock makes great coffee and with balan...</td>\n",
              "      <td>5</td>\n",
              "    </tr>\n",
              "    <tr>\n",
              "      <th>426338</th>\n",
              "      <td>Earl Grey of Earl Grey +++</td>\n",
              "      <td>I already liked regular Stash Earl Grey and so...</td>\n",
              "      <td>5</td>\n",
              "    </tr>\n",
              "    <tr>\n",
              "      <th>426339</th>\n",
              "      <td>Excellent Quality; my dogs LOVE it!</td>\n",
              "      <td>I have 5-7 dogs at any given time, sometimes f...</td>\n",
              "      <td>5</td>\n",
              "    </tr>\n",
              "  </tbody>\n",
              "</table>\n",
              "<p>426340 rows × 3 columns</p>\n",
              "</div>\n",
              "    <div class=\"colab-df-buttons\">\n",
              "\n",
              "  <div class=\"colab-df-container\">\n",
              "    <button class=\"colab-df-convert\" onclick=\"convertToInteractive('df-dec1a2b4-9712-4a09-b823-946db4ecabd0')\"\n",
              "            title=\"Convert this dataframe to an interactive table.\"\n",
              "            style=\"display:none;\">\n",
              "\n",
              "  <svg xmlns=\"http://www.w3.org/2000/svg\" height=\"24px\" viewBox=\"0 -960 960 960\">\n",
              "    <path d=\"M120-120v-720h720v720H120Zm60-500h600v-160H180v160Zm220 220h160v-160H400v160Zm0 220h160v-160H400v160ZM180-400h160v-160H180v160Zm440 0h160v-160H620v160ZM180-180h160v-160H180v160Zm440 0h160v-160H620v160Z\"/>\n",
              "  </svg>\n",
              "    </button>\n",
              "\n",
              "  <style>\n",
              "    .colab-df-container {\n",
              "      display:flex;\n",
              "      gap: 12px;\n",
              "    }\n",
              "\n",
              "    .colab-df-convert {\n",
              "      background-color: #E8F0FE;\n",
              "      border: none;\n",
              "      border-radius: 50%;\n",
              "      cursor: pointer;\n",
              "      display: none;\n",
              "      fill: #1967D2;\n",
              "      height: 32px;\n",
              "      padding: 0 0 0 0;\n",
              "      width: 32px;\n",
              "    }\n",
              "\n",
              "    .colab-df-convert:hover {\n",
              "      background-color: #E2EBFA;\n",
              "      box-shadow: 0px 1px 2px rgba(60, 64, 67, 0.3), 0px 1px 3px 1px rgba(60, 64, 67, 0.15);\n",
              "      fill: #174EA6;\n",
              "    }\n",
              "\n",
              "    .colab-df-buttons div {\n",
              "      margin-bottom: 4px;\n",
              "    }\n",
              "\n",
              "    [theme=dark] .colab-df-convert {\n",
              "      background-color: #3B4455;\n",
              "      fill: #D2E3FC;\n",
              "    }\n",
              "\n",
              "    [theme=dark] .colab-df-convert:hover {\n",
              "      background-color: #434B5C;\n",
              "      box-shadow: 0px 1px 3px 1px rgba(0, 0, 0, 0.15);\n",
              "      filter: drop-shadow(0px 1px 2px rgba(0, 0, 0, 0.3));\n",
              "      fill: #FFFFFF;\n",
              "    }\n",
              "  </style>\n",
              "\n",
              "    <script>\n",
              "      const buttonEl =\n",
              "        document.querySelector('#df-dec1a2b4-9712-4a09-b823-946db4ecabd0 button.colab-df-convert');\n",
              "      buttonEl.style.display =\n",
              "        google.colab.kernel.accessAllowed ? 'block' : 'none';\n",
              "\n",
              "      async function convertToInteractive(key) {\n",
              "        const element = document.querySelector('#df-dec1a2b4-9712-4a09-b823-946db4ecabd0');\n",
              "        const dataTable =\n",
              "          await google.colab.kernel.invokeFunction('convertToInteractive',\n",
              "                                                    [key], {});\n",
              "        if (!dataTable) return;\n",
              "\n",
              "        const docLinkHtml = 'Like what you see? Visit the ' +\n",
              "          '<a target=\"_blank\" href=https://colab.research.google.com/notebooks/data_table.ipynb>data table notebook</a>'\n",
              "          + ' to learn more about interactive tables.';\n",
              "        element.innerHTML = '';\n",
              "        dataTable['output_type'] = 'display_data';\n",
              "        await google.colab.output.renderOutput(dataTable, element);\n",
              "        const docLink = document.createElement('div');\n",
              "        docLink.innerHTML = docLinkHtml;\n",
              "        element.appendChild(docLink);\n",
              "      }\n",
              "    </script>\n",
              "  </div>\n",
              "\n",
              "\n",
              "<div id=\"df-aad83f91-2538-4af9-9c86-4417235fcbbd\">\n",
              "  <button class=\"colab-df-quickchart\" onclick=\"quickchart('df-aad83f91-2538-4af9-9c86-4417235fcbbd')\"\n",
              "            title=\"Suggest charts\"\n",
              "            style=\"display:none;\">\n",
              "\n",
              "<svg xmlns=\"http://www.w3.org/2000/svg\" height=\"24px\"viewBox=\"0 0 24 24\"\n",
              "     width=\"24px\">\n",
              "    <g>\n",
              "        <path d=\"M19 3H5c-1.1 0-2 .9-2 2v14c0 1.1.9 2 2 2h14c1.1 0 2-.9 2-2V5c0-1.1-.9-2-2-2zM9 17H7v-7h2v7zm4 0h-2V7h2v10zm4 0h-2v-4h2v4z\"/>\n",
              "    </g>\n",
              "</svg>\n",
              "  </button>\n",
              "\n",
              "<style>\n",
              "  .colab-df-quickchart {\n",
              "      --bg-color: #E8F0FE;\n",
              "      --fill-color: #1967D2;\n",
              "      --hover-bg-color: #E2EBFA;\n",
              "      --hover-fill-color: #174EA6;\n",
              "      --disabled-fill-color: #AAA;\n",
              "      --disabled-bg-color: #DDD;\n",
              "  }\n",
              "\n",
              "  [theme=dark] .colab-df-quickchart {\n",
              "      --bg-color: #3B4455;\n",
              "      --fill-color: #D2E3FC;\n",
              "      --hover-bg-color: #434B5C;\n",
              "      --hover-fill-color: #FFFFFF;\n",
              "      --disabled-bg-color: #3B4455;\n",
              "      --disabled-fill-color: #666;\n",
              "  }\n",
              "\n",
              "  .colab-df-quickchart {\n",
              "    background-color: var(--bg-color);\n",
              "    border: none;\n",
              "    border-radius: 50%;\n",
              "    cursor: pointer;\n",
              "    display: none;\n",
              "    fill: var(--fill-color);\n",
              "    height: 32px;\n",
              "    padding: 0;\n",
              "    width: 32px;\n",
              "  }\n",
              "\n",
              "  .colab-df-quickchart:hover {\n",
              "    background-color: var(--hover-bg-color);\n",
              "    box-shadow: 0 1px 2px rgba(60, 64, 67, 0.3), 0 1px 3px 1px rgba(60, 64, 67, 0.15);\n",
              "    fill: var(--button-hover-fill-color);\n",
              "  }\n",
              "\n",
              "  .colab-df-quickchart-complete:disabled,\n",
              "  .colab-df-quickchart-complete:disabled:hover {\n",
              "    background-color: var(--disabled-bg-color);\n",
              "    fill: var(--disabled-fill-color);\n",
              "    box-shadow: none;\n",
              "  }\n",
              "\n",
              "  .colab-df-spinner {\n",
              "    border: 2px solid var(--fill-color);\n",
              "    border-color: transparent;\n",
              "    border-bottom-color: var(--fill-color);\n",
              "    animation:\n",
              "      spin 1s steps(1) infinite;\n",
              "  }\n",
              "\n",
              "  @keyframes spin {\n",
              "    0% {\n",
              "      border-color: transparent;\n",
              "      border-bottom-color: var(--fill-color);\n",
              "      border-left-color: var(--fill-color);\n",
              "    }\n",
              "    20% {\n",
              "      border-color: transparent;\n",
              "      border-left-color: var(--fill-color);\n",
              "      border-top-color: var(--fill-color);\n",
              "    }\n",
              "    30% {\n",
              "      border-color: transparent;\n",
              "      border-left-color: var(--fill-color);\n",
              "      border-top-color: var(--fill-color);\n",
              "      border-right-color: var(--fill-color);\n",
              "    }\n",
              "    40% {\n",
              "      border-color: transparent;\n",
              "      border-right-color: var(--fill-color);\n",
              "      border-top-color: var(--fill-color);\n",
              "    }\n",
              "    60% {\n",
              "      border-color: transparent;\n",
              "      border-right-color: var(--fill-color);\n",
              "    }\n",
              "    80% {\n",
              "      border-color: transparent;\n",
              "      border-right-color: var(--fill-color);\n",
              "      border-bottom-color: var(--fill-color);\n",
              "    }\n",
              "    90% {\n",
              "      border-color: transparent;\n",
              "      border-bottom-color: var(--fill-color);\n",
              "    }\n",
              "  }\n",
              "</style>\n",
              "\n",
              "  <script>\n",
              "    async function quickchart(key) {\n",
              "      const quickchartButtonEl =\n",
              "        document.querySelector('#' + key + ' button');\n",
              "      quickchartButtonEl.disabled = true;  // To prevent multiple clicks.\n",
              "      quickchartButtonEl.classList.add('colab-df-spinner');\n",
              "      try {\n",
              "        const charts = await google.colab.kernel.invokeFunction(\n",
              "            'suggestCharts', [key], {});\n",
              "      } catch (error) {\n",
              "        console.error('Error during call to suggestCharts:', error);\n",
              "      }\n",
              "      quickchartButtonEl.classList.remove('colab-df-spinner');\n",
              "      quickchartButtonEl.classList.add('colab-df-quickchart-complete');\n",
              "    }\n",
              "    (() => {\n",
              "      let quickchartButtonEl =\n",
              "        document.querySelector('#df-aad83f91-2538-4af9-9c86-4417235fcbbd button');\n",
              "      quickchartButtonEl.style.display =\n",
              "        google.colab.kernel.accessAllowed ? 'block' : 'none';\n",
              "    })();\n",
              "  </script>\n",
              "</div>\n",
              "\n",
              "  <div id=\"id_143a63d3-de65-4694-b7e6-432ae9ad8f5b\">\n",
              "    <style>\n",
              "      .colab-df-generate {\n",
              "        background-color: #E8F0FE;\n",
              "        border: none;\n",
              "        border-radius: 50%;\n",
              "        cursor: pointer;\n",
              "        display: none;\n",
              "        fill: #1967D2;\n",
              "        height: 32px;\n",
              "        padding: 0 0 0 0;\n",
              "        width: 32px;\n",
              "      }\n",
              "\n",
              "      .colab-df-generate:hover {\n",
              "        background-color: #E2EBFA;\n",
              "        box-shadow: 0px 1px 2px rgba(60, 64, 67, 0.3), 0px 1px 3px 1px rgba(60, 64, 67, 0.15);\n",
              "        fill: #174EA6;\n",
              "      }\n",
              "\n",
              "      [theme=dark] .colab-df-generate {\n",
              "        background-color: #3B4455;\n",
              "        fill: #D2E3FC;\n",
              "      }\n",
              "\n",
              "      [theme=dark] .colab-df-generate:hover {\n",
              "        background-color: #434B5C;\n",
              "        box-shadow: 0px 1px 3px 1px rgba(0, 0, 0, 0.15);\n",
              "        filter: drop-shadow(0px 1px 2px rgba(0, 0, 0, 0.3));\n",
              "        fill: #FFFFFF;\n",
              "      }\n",
              "    </style>\n",
              "    <button class=\"colab-df-generate\" onclick=\"generateWithVariable('df')\"\n",
              "            title=\"Generate code using this dataframe.\"\n",
              "            style=\"display:none;\">\n",
              "\n",
              "  <svg xmlns=\"http://www.w3.org/2000/svg\" height=\"24px\"viewBox=\"0 0 24 24\"\n",
              "       width=\"24px\">\n",
              "    <path d=\"M7,19H8.4L18.45,9,17,7.55,7,17.6ZM5,21V16.75L18.45,3.32a2,2,0,0,1,2.83,0l1.4,1.43a1.91,1.91,0,0,1,.58,1.4,1.91,1.91,0,0,1-.58,1.4L9.25,21ZM18.45,9,17,7.55Zm-12,3A5.31,5.31,0,0,0,4.9,8.1,5.31,5.31,0,0,0,1,6.5,5.31,5.31,0,0,0,4.9,4.9,5.31,5.31,0,0,0,6.5,1,5.31,5.31,0,0,0,8.1,4.9,5.31,5.31,0,0,0,12,6.5,5.46,5.46,0,0,0,6.5,12Z\"/>\n",
              "  </svg>\n",
              "    </button>\n",
              "    <script>\n",
              "      (() => {\n",
              "      const buttonEl =\n",
              "        document.querySelector('#id_143a63d3-de65-4694-b7e6-432ae9ad8f5b button.colab-df-generate');\n",
              "      buttonEl.style.display =\n",
              "        google.colab.kernel.accessAllowed ? 'block' : 'none';\n",
              "\n",
              "      buttonEl.onclick = () => {\n",
              "        google.colab.notebook.generateWithVariable('df');\n",
              "      }\n",
              "      })();\n",
              "    </script>\n",
              "  </div>\n",
              "\n",
              "    </div>\n",
              "  </div>\n"
            ],
            "application/vnd.google.colaboratory.intrinsic+json": {
              "type": "dataframe",
              "variable_name": "df"
            }
          },
          "metadata": {},
          "execution_count": 3
        }
      ]
    },
    {
      "cell_type": "markdown",
      "source": [
        "PASO 3"
      ],
      "metadata": {
        "id": "bqmlAbrz8Tli"
      }
    },
    {
      "cell_type": "code",
      "source": [
        "#df['Negative'] = df['Score'].apply(lambda x: 1 if x < 3 else 0) #DESCOMENTA EN CASO DE NECESITARLO"
      ],
      "metadata": {
        "id": "5PpG6b-OmS24"
      },
      "execution_count": null,
      "outputs": []
    },
    {
      "cell_type": "markdown",
      "source": [
        "\n",
        "\n",
        "> Se Crearon etiquetas binarias: Se creo una nueva columna Negative para identificar opiniones negativas (calificaciones de 1 y 2) como 1, y las demás como 0.\n",
        "\n"
      ],
      "metadata": {
        "id": "kfhXv__QEoxN"
      }
    },
    {
      "cell_type": "code",
      "source": [
        "#df.info() #DESCOMENTA EN CASO DE NECESITARLO"
      ],
      "metadata": {
        "colab": {
          "base_uri": "https://localhost:8080/"
        },
        "id": "5OoXrToDmZXG",
        "outputId": "c26fdbbd-0a04-41d5-913c-4e1e26ec65f3"
      },
      "execution_count": null,
      "outputs": [
        {
          "output_type": "stream",
          "name": "stdout",
          "text": [
            "<class 'pandas.core.frame.DataFrame'>\n",
            "RangeIndex: 426340 entries, 0 to 426339\n",
            "Data columns (total 4 columns):\n",
            " #   Column    Non-Null Count   Dtype \n",
            "---  ------    --------------   ----- \n",
            " 0   Summary   426323 non-null  object\n",
            " 1   Text      426340 non-null  object\n",
            " 2   Score     426340 non-null  int64 \n",
            " 3   Negative  426340 non-null  int64 \n",
            "dtypes: int64(2), object(2)\n",
            "memory usage: 13.0+ MB\n"
          ]
        }
      ]
    },
    {
      "cell_type": "markdown",
      "source": [
        "## 3. Balanceo del dataset"
      ],
      "metadata": {
        "id": "u1s99ZwiFBjb"
      }
    },
    {
      "cell_type": "markdown",
      "source": [
        "> Para evitar un desbalance en clases:\n",
        "  * Muestreo estratificado:\n",
        "  Se seleccionan un 51% de opiniones negativas y un 49% de no negativas. Esto debido a que nos interesa y es parte de los objetivos del proyecto que identifique mejor los comnentarios negativos y con esto podemos ligeramente balancear de un lado que nos interesa sin comprometer el apredizaje de los no negativos.\n",
        "  * Muestra: Se procede a tomar una muestra del conjunto original, esto para poder trabajar con la gpu y los tiempos de entrenamiento disminuirlo."
      ],
      "metadata": {
        "id": "OaR3F_KBGEl9"
      }
    },
    {
      "cell_type": "markdown",
      "source": [
        "PASO 4"
      ],
      "metadata": {
        "id": "nmqQ3XDQ8YnO"
      }
    },
    {
      "cell_type": "code",
      "source": [
        "def generar_muestra(df):\n",
        "  # Fracción para la muestra total\n",
        "  frac_total = 0.2\n",
        "\n",
        "  # Proporciones aproximadas para negativos y no negativos\n",
        "  neg_frac = 0.51  # 55% negativos\n",
        "  non_neg_frac = 0.49  # 45% no negativos (0 en la columna Negative)\n",
        "\n",
        "  # Dividiendo el dataset en negativos (1) y no negativos (0)\n",
        "  negativos = df[df['Negative'] == 1]\n",
        "  no_negativos = df[df['Negative'] == 0]\n",
        "\n",
        "  # Calculando el tamaño total de la muestra\n",
        "  sample_size = int(len(df) * frac_total)\n",
        "\n",
        "  # Calculando el tamaño de las muestras para negativos y no negativos\n",
        "  neg_sample_size = int(sample_size * neg_frac)\n",
        "  non_neg_sample_size = int(sample_size * non_neg_frac)\n",
        "\n",
        "  # Tomando muestras de cada clase\n",
        "  neg_sample = negativos.sample(n=neg_sample_size, random_state=42)\n",
        "  non_neg_sample = no_negativos.sample(n=non_neg_sample_size, random_state=42)\n",
        "\n",
        "  # Combinando las muestras\n",
        "  balanced_sample = pd.concat([neg_sample, non_neg_sample])\n",
        "\n",
        "  # Barajareamos la muestra combinada (opcional, aqui lo incluimos)\n",
        "  balanced_sample = balanced_sample.sample(frac=1, random_state=42).reset_index(drop=True)\n",
        "\n",
        "  return balanced_sample\n",
        "\n",
        "  # Resultado: Verificando el balance de la muestra\n",
        "  print(\"Distribución de la muestra balanceada:\")\n",
        "  print(balanced_sample['Negative'].value_counts())\n",
        "\n",
        "  # Resultado final\n",
        "  balanced_sample.head()"
      ],
      "metadata": {
        "colab": {
          "base_uri": "https://localhost:8080/",
          "height": 293
        },
        "id": "vQnJf19TnBVI",
        "outputId": "eef73804-bc62-4b55-e53c-6bedfc03daa3"
      },
      "execution_count": null,
      "outputs": [
        {
          "output_type": "stream",
          "name": "stdout",
          "text": [
            "Distribución de la muestra balanceada:\n",
            "Negative\n",
            "1    43486\n",
            "0    41781\n",
            "Name: count, dtype: int64\n"
          ]
        },
        {
          "output_type": "execute_result",
          "data": {
            "text/plain": [
              "                                  Summary  \\\n",
              "0          Very pleased with this product   \n",
              "1                                   Great   \n",
              "2  Fat free and taste free, sorry to say!   \n",
              "3                             good stuff!   \n",
              "4      HOW CAN YOU GO WRONG WITH GREENIES   \n",
              "\n",
              "                                                Text  Score  Negative  \n",
              "0  Since we discovered this product through Amazo...      5         0  \n",
              "1  My dogs have loved this product for 22+ Years....      5         0  \n",
              "2  REally wanted to like this but it has no taste...      1         1  \n",
              "3  I really enjoy this product--I just purchased ...      5         0  \n",
              "4  Greenies are a great way to train your cat. If...      5         0  "
            ],
            "text/html": [
              "\n",
              "  <div id=\"df-9f59fe6a-ee45-4b1e-8387-e1bc21c1c687\" class=\"colab-df-container\">\n",
              "    <div>\n",
              "<style scoped>\n",
              "    .dataframe tbody tr th:only-of-type {\n",
              "        vertical-align: middle;\n",
              "    }\n",
              "\n",
              "    .dataframe tbody tr th {\n",
              "        vertical-align: top;\n",
              "    }\n",
              "\n",
              "    .dataframe thead th {\n",
              "        text-align: right;\n",
              "    }\n",
              "</style>\n",
              "<table border=\"1\" class=\"dataframe\">\n",
              "  <thead>\n",
              "    <tr style=\"text-align: right;\">\n",
              "      <th></th>\n",
              "      <th>Summary</th>\n",
              "      <th>Text</th>\n",
              "      <th>Score</th>\n",
              "      <th>Negative</th>\n",
              "    </tr>\n",
              "  </thead>\n",
              "  <tbody>\n",
              "    <tr>\n",
              "      <th>0</th>\n",
              "      <td>Very pleased with this product</td>\n",
              "      <td>Since we discovered this product through Amazo...</td>\n",
              "      <td>5</td>\n",
              "      <td>0</td>\n",
              "    </tr>\n",
              "    <tr>\n",
              "      <th>1</th>\n",
              "      <td>Great</td>\n",
              "      <td>My dogs have loved this product for 22+ Years....</td>\n",
              "      <td>5</td>\n",
              "      <td>0</td>\n",
              "    </tr>\n",
              "    <tr>\n",
              "      <th>2</th>\n",
              "      <td>Fat free and taste free, sorry to say!</td>\n",
              "      <td>REally wanted to like this but it has no taste...</td>\n",
              "      <td>1</td>\n",
              "      <td>1</td>\n",
              "    </tr>\n",
              "    <tr>\n",
              "      <th>3</th>\n",
              "      <td>good stuff!</td>\n",
              "      <td>I really enjoy this product--I just purchased ...</td>\n",
              "      <td>5</td>\n",
              "      <td>0</td>\n",
              "    </tr>\n",
              "    <tr>\n",
              "      <th>4</th>\n",
              "      <td>HOW CAN YOU GO WRONG WITH GREENIES</td>\n",
              "      <td>Greenies are a great way to train your cat. If...</td>\n",
              "      <td>5</td>\n",
              "      <td>0</td>\n",
              "    </tr>\n",
              "  </tbody>\n",
              "</table>\n",
              "</div>\n",
              "    <div class=\"colab-df-buttons\">\n",
              "\n",
              "  <div class=\"colab-df-container\">\n",
              "    <button class=\"colab-df-convert\" onclick=\"convertToInteractive('df-9f59fe6a-ee45-4b1e-8387-e1bc21c1c687')\"\n",
              "            title=\"Convert this dataframe to an interactive table.\"\n",
              "            style=\"display:none;\">\n",
              "\n",
              "  <svg xmlns=\"http://www.w3.org/2000/svg\" height=\"24px\" viewBox=\"0 -960 960 960\">\n",
              "    <path d=\"M120-120v-720h720v720H120Zm60-500h600v-160H180v160Zm220 220h160v-160H400v160Zm0 220h160v-160H400v160ZM180-400h160v-160H180v160Zm440 0h160v-160H620v160ZM180-180h160v-160H180v160Zm440 0h160v-160H620v160Z\"/>\n",
              "  </svg>\n",
              "    </button>\n",
              "\n",
              "  <style>\n",
              "    .colab-df-container {\n",
              "      display:flex;\n",
              "      gap: 12px;\n",
              "    }\n",
              "\n",
              "    .colab-df-convert {\n",
              "      background-color: #E8F0FE;\n",
              "      border: none;\n",
              "      border-radius: 50%;\n",
              "      cursor: pointer;\n",
              "      display: none;\n",
              "      fill: #1967D2;\n",
              "      height: 32px;\n",
              "      padding: 0 0 0 0;\n",
              "      width: 32px;\n",
              "    }\n",
              "\n",
              "    .colab-df-convert:hover {\n",
              "      background-color: #E2EBFA;\n",
              "      box-shadow: 0px 1px 2px rgba(60, 64, 67, 0.3), 0px 1px 3px 1px rgba(60, 64, 67, 0.15);\n",
              "      fill: #174EA6;\n",
              "    }\n",
              "\n",
              "    .colab-df-buttons div {\n",
              "      margin-bottom: 4px;\n",
              "    }\n",
              "\n",
              "    [theme=dark] .colab-df-convert {\n",
              "      background-color: #3B4455;\n",
              "      fill: #D2E3FC;\n",
              "    }\n",
              "\n",
              "    [theme=dark] .colab-df-convert:hover {\n",
              "      background-color: #434B5C;\n",
              "      box-shadow: 0px 1px 3px 1px rgba(0, 0, 0, 0.15);\n",
              "      filter: drop-shadow(0px 1px 2px rgba(0, 0, 0, 0.3));\n",
              "      fill: #FFFFFF;\n",
              "    }\n",
              "  </style>\n",
              "\n",
              "    <script>\n",
              "      const buttonEl =\n",
              "        document.querySelector('#df-9f59fe6a-ee45-4b1e-8387-e1bc21c1c687 button.colab-df-convert');\n",
              "      buttonEl.style.display =\n",
              "        google.colab.kernel.accessAllowed ? 'block' : 'none';\n",
              "\n",
              "      async function convertToInteractive(key) {\n",
              "        const element = document.querySelector('#df-9f59fe6a-ee45-4b1e-8387-e1bc21c1c687');\n",
              "        const dataTable =\n",
              "          await google.colab.kernel.invokeFunction('convertToInteractive',\n",
              "                                                    [key], {});\n",
              "        if (!dataTable) return;\n",
              "\n",
              "        const docLinkHtml = 'Like what you see? Visit the ' +\n",
              "          '<a target=\"_blank\" href=https://colab.research.google.com/notebooks/data_table.ipynb>data table notebook</a>'\n",
              "          + ' to learn more about interactive tables.';\n",
              "        element.innerHTML = '';\n",
              "        dataTable['output_type'] = 'display_data';\n",
              "        await google.colab.output.renderOutput(dataTable, element);\n",
              "        const docLink = document.createElement('div');\n",
              "        docLink.innerHTML = docLinkHtml;\n",
              "        element.appendChild(docLink);\n",
              "      }\n",
              "    </script>\n",
              "  </div>\n",
              "\n",
              "\n",
              "<div id=\"df-b076a8aa-d859-4edc-92cd-803a0e4acdd0\">\n",
              "  <button class=\"colab-df-quickchart\" onclick=\"quickchart('df-b076a8aa-d859-4edc-92cd-803a0e4acdd0')\"\n",
              "            title=\"Suggest charts\"\n",
              "            style=\"display:none;\">\n",
              "\n",
              "<svg xmlns=\"http://www.w3.org/2000/svg\" height=\"24px\"viewBox=\"0 0 24 24\"\n",
              "     width=\"24px\">\n",
              "    <g>\n",
              "        <path d=\"M19 3H5c-1.1 0-2 .9-2 2v14c0 1.1.9 2 2 2h14c1.1 0 2-.9 2-2V5c0-1.1-.9-2-2-2zM9 17H7v-7h2v7zm4 0h-2V7h2v10zm4 0h-2v-4h2v4z\"/>\n",
              "    </g>\n",
              "</svg>\n",
              "  </button>\n",
              "\n",
              "<style>\n",
              "  .colab-df-quickchart {\n",
              "      --bg-color: #E8F0FE;\n",
              "      --fill-color: #1967D2;\n",
              "      --hover-bg-color: #E2EBFA;\n",
              "      --hover-fill-color: #174EA6;\n",
              "      --disabled-fill-color: #AAA;\n",
              "      --disabled-bg-color: #DDD;\n",
              "  }\n",
              "\n",
              "  [theme=dark] .colab-df-quickchart {\n",
              "      --bg-color: #3B4455;\n",
              "      --fill-color: #D2E3FC;\n",
              "      --hover-bg-color: #434B5C;\n",
              "      --hover-fill-color: #FFFFFF;\n",
              "      --disabled-bg-color: #3B4455;\n",
              "      --disabled-fill-color: #666;\n",
              "  }\n",
              "\n",
              "  .colab-df-quickchart {\n",
              "    background-color: var(--bg-color);\n",
              "    border: none;\n",
              "    border-radius: 50%;\n",
              "    cursor: pointer;\n",
              "    display: none;\n",
              "    fill: var(--fill-color);\n",
              "    height: 32px;\n",
              "    padding: 0;\n",
              "    width: 32px;\n",
              "  }\n",
              "\n",
              "  .colab-df-quickchart:hover {\n",
              "    background-color: var(--hover-bg-color);\n",
              "    box-shadow: 0 1px 2px rgba(60, 64, 67, 0.3), 0 1px 3px 1px rgba(60, 64, 67, 0.15);\n",
              "    fill: var(--button-hover-fill-color);\n",
              "  }\n",
              "\n",
              "  .colab-df-quickchart-complete:disabled,\n",
              "  .colab-df-quickchart-complete:disabled:hover {\n",
              "    background-color: var(--disabled-bg-color);\n",
              "    fill: var(--disabled-fill-color);\n",
              "    box-shadow: none;\n",
              "  }\n",
              "\n",
              "  .colab-df-spinner {\n",
              "    border: 2px solid var(--fill-color);\n",
              "    border-color: transparent;\n",
              "    border-bottom-color: var(--fill-color);\n",
              "    animation:\n",
              "      spin 1s steps(1) infinite;\n",
              "  }\n",
              "\n",
              "  @keyframes spin {\n",
              "    0% {\n",
              "      border-color: transparent;\n",
              "      border-bottom-color: var(--fill-color);\n",
              "      border-left-color: var(--fill-color);\n",
              "    }\n",
              "    20% {\n",
              "      border-color: transparent;\n",
              "      border-left-color: var(--fill-color);\n",
              "      border-top-color: var(--fill-color);\n",
              "    }\n",
              "    30% {\n",
              "      border-color: transparent;\n",
              "      border-left-color: var(--fill-color);\n",
              "      border-top-color: var(--fill-color);\n",
              "      border-right-color: var(--fill-color);\n",
              "    }\n",
              "    40% {\n",
              "      border-color: transparent;\n",
              "      border-right-color: var(--fill-color);\n",
              "      border-top-color: var(--fill-color);\n",
              "    }\n",
              "    60% {\n",
              "      border-color: transparent;\n",
              "      border-right-color: var(--fill-color);\n",
              "    }\n",
              "    80% {\n",
              "      border-color: transparent;\n",
              "      border-right-color: var(--fill-color);\n",
              "      border-bottom-color: var(--fill-color);\n",
              "    }\n",
              "    90% {\n",
              "      border-color: transparent;\n",
              "      border-bottom-color: var(--fill-color);\n",
              "    }\n",
              "  }\n",
              "</style>\n",
              "\n",
              "  <script>\n",
              "    async function quickchart(key) {\n",
              "      const quickchartButtonEl =\n",
              "        document.querySelector('#' + key + ' button');\n",
              "      quickchartButtonEl.disabled = true;  // To prevent multiple clicks.\n",
              "      quickchartButtonEl.classList.add('colab-df-spinner');\n",
              "      try {\n",
              "        const charts = await google.colab.kernel.invokeFunction(\n",
              "            'suggestCharts', [key], {});\n",
              "      } catch (error) {\n",
              "        console.error('Error during call to suggestCharts:', error);\n",
              "      }\n",
              "      quickchartButtonEl.classList.remove('colab-df-spinner');\n",
              "      quickchartButtonEl.classList.add('colab-df-quickchart-complete');\n",
              "    }\n",
              "    (() => {\n",
              "      let quickchartButtonEl =\n",
              "        document.querySelector('#df-b076a8aa-d859-4edc-92cd-803a0e4acdd0 button');\n",
              "      quickchartButtonEl.style.display =\n",
              "        google.colab.kernel.accessAllowed ? 'block' : 'none';\n",
              "    })();\n",
              "  </script>\n",
              "</div>\n",
              "\n",
              "    </div>\n",
              "  </div>\n"
            ],
            "application/vnd.google.colaboratory.intrinsic+json": {
              "type": "dataframe",
              "variable_name": "balanced_sample",
              "summary": "{\n  \"name\": \"balanced_sample\",\n  \"rows\": 85267,\n  \"fields\": [\n    {\n      \"column\": \"Summary\",\n      \"properties\": {\n        \"dtype\": \"string\",\n        \"num_unique_values\": 60243,\n        \"samples\": [\n          \"Papaya Mask\",\n          \"Cat loves it!\",\n          \"way too sour\"\n        ],\n        \"semantic_type\": \"\",\n        \"description\": \"\"\n      }\n    },\n    {\n      \"column\": \"Text\",\n      \"properties\": {\n        \"dtype\": \"string\",\n        \"num_unique_values\": 71928,\n        \"samples\": [\n          \"I had never tried lara bars before and I loved them!  Seller was speedy and efficient.  A+++!!\",\n          \"worst product I ever tasted, I had to dispose of it.<br />I don't recommend this product to anyone, not tasty, I doubt its healthy, and it is overpriced!\",\n          \"I had the best ice tea ever at a bar and grill (Chuy's) in Phoenix Arizona.<br />I inquired and found that they used Farmer Brother's Ice Tea.<br />Now, I can enjoy the best ice tea ever at home!\"\n        ],\n        \"semantic_type\": \"\",\n        \"description\": \"\"\n      }\n    },\n    {\n      \"column\": \"Score\",\n      \"properties\": {\n        \"dtype\": \"number\",\n        \"std\": 1,\n        \"min\": 1,\n        \"max\": 5,\n        \"num_unique_values\": 5,\n        \"samples\": [\n          1,\n          3,\n          2\n        ],\n        \"semantic_type\": \"\",\n        \"description\": \"\"\n      }\n    },\n    {\n      \"column\": \"Negative\",\n      \"properties\": {\n        \"dtype\": \"number\",\n        \"std\": 0,\n        \"min\": 0,\n        \"max\": 1,\n        \"num_unique_values\": 2,\n        \"samples\": [\n          1,\n          0\n        ],\n        \"semantic_type\": \"\",\n        \"description\": \"\"\n      }\n    }\n  ]\n}"
            }
          },
          "metadata": {},
          "execution_count": 6
        }
      ]
    },
    {
      "cell_type": "markdown",
      "source": [
        "PASO 4"
      ],
      "metadata": {
        "id": "TVltQF-885Ko"
      }
    },
    {
      "cell_type": "markdown",
      "source": [
        "Guardando la muestra de datos con los que se va trabajar despues de que se transformo y se eligio aleatoriamente los datos."
      ],
      "metadata": {
        "id": "EWy4w2rMJg-R"
      }
    },
    {
      "cell_type": "code",
      "source": [
        "#balanced_sample = generar_muestra(df) #DESCOMENTA EN CASO DE NECESITARLO\n",
        "\n",
        "# Guardar en CSV\n",
        "#balanced_sample.to_csv(\"sample_raw.csv\") #DESCOMENTA EN CASO DE NECESITARLO"
      ],
      "metadata": {
        "id": "-aaL8l1VnQJu"
      },
      "execution_count": null,
      "outputs": []
    },
    {
      "cell_type": "markdown",
      "source": [
        "\n",
        "\n",
        "---\n",
        "\n"
      ],
      "metadata": {
        "id": "9B9ZM5SW9TA-"
      }
    },
    {
      "cell_type": "markdown",
      "source": [
        "### Seccion B"
      ],
      "metadata": {
        "id": "rVDfUYRVJ6gC"
      }
    },
    {
      "cell_type": "markdown",
      "source": [
        "---\n",
        "> * Si se cuenta con un archivo ya de muestra con la que se pretende trabjar para entrenar el modelo, se puede ejecutar la libreta desde esta parte.\n",
        "* En caso de querer usar los datos con los que se entreno el modelo para volver a entrenar el mismo o modelo u otro, puede tomar el csv que esta en la carpeta de la siguiente url: https://drive.google.com/file/d/1JrfH3wy67S6v0KepXpelO0xx5TNURAmy/view?usp=drive_link , y colocarla en la raiz para usarla, el nombree del archivo es sample_raw.csv."
      ],
      "metadata": {
        "id": "G1sFXkXcJc90"
      }
    },
    {
      "cell_type": "code",
      "source": [
        "df_sample = pd.read_csv('sample_raw.csv')\n",
        "df_sample"
      ],
      "metadata": {
        "colab": {
          "base_uri": "https://localhost:8080/",
          "height": 423
        },
        "id": "1-A60HJsnc1Z",
        "outputId": "94667e99-9800-485c-a4c1-988be8c14c00"
      },
      "execution_count": null,
      "outputs": [
        {
          "output_type": "execute_result",
          "data": {
            "text/plain": [
              "       Unnamed: 0                                          Summary  \\\n",
              "0               0                   Very pleased with this product   \n",
              "1               1                                            Great   \n",
              "2               2           Fat free and taste free, sorry to say!   \n",
              "3               3                                      good stuff!   \n",
              "4               4               HOW CAN YOU GO WRONG WITH GREENIES   \n",
              "...           ...                                              ...   \n",
              "85262       85262                               Poisons from China   \n",
              "85263       85263  Rich, Robust Flavor, and other good stuff, too.   \n",
              "85264       85264                                        Green tea   \n",
              "85265       85265                           Bigelow Chai Green Tea   \n",
              "85266       85266                   Made in China- won't buy again   \n",
              "\n",
              "                                                    Text  Score  Negative  \n",
              "0      Since we discovered this product through Amazo...      5         0  \n",
              "1      My dogs have loved this product for 22+ Years....      5         0  \n",
              "2      REally wanted to like this but it has no taste...      1         1  \n",
              "3      I really enjoy this product--I just purchased ...      5         0  \n",
              "4      Greenies are a great way to train your cat. If...      5         0  \n",
              "...                                                  ...    ...       ...  \n",
              "85262  I purchase almost daily from Amazon and recomm...      1         1  \n",
              "85263  The following are quotes from the box of Marle...      5         0  \n",
              "85264  I'm new to green tea so I purchased this produ...      3         0  \n",
              "85265  What I was expecting was a chai tea similar to...      1         1  \n",
              "85266  I saw \"Japonica rice\" and made the mistake of ...      2         1  \n",
              "\n",
              "[85267 rows x 5 columns]"
            ],
            "text/html": [
              "\n",
              "  <div id=\"df-bc6fc03b-1aa5-44d0-b506-4684abad547f\" class=\"colab-df-container\">\n",
              "    <div>\n",
              "<style scoped>\n",
              "    .dataframe tbody tr th:only-of-type {\n",
              "        vertical-align: middle;\n",
              "    }\n",
              "\n",
              "    .dataframe tbody tr th {\n",
              "        vertical-align: top;\n",
              "    }\n",
              "\n",
              "    .dataframe thead th {\n",
              "        text-align: right;\n",
              "    }\n",
              "</style>\n",
              "<table border=\"1\" class=\"dataframe\">\n",
              "  <thead>\n",
              "    <tr style=\"text-align: right;\">\n",
              "      <th></th>\n",
              "      <th>Unnamed: 0</th>\n",
              "      <th>Summary</th>\n",
              "      <th>Text</th>\n",
              "      <th>Score</th>\n",
              "      <th>Negative</th>\n",
              "    </tr>\n",
              "  </thead>\n",
              "  <tbody>\n",
              "    <tr>\n",
              "      <th>0</th>\n",
              "      <td>0</td>\n",
              "      <td>Very pleased with this product</td>\n",
              "      <td>Since we discovered this product through Amazo...</td>\n",
              "      <td>5</td>\n",
              "      <td>0</td>\n",
              "    </tr>\n",
              "    <tr>\n",
              "      <th>1</th>\n",
              "      <td>1</td>\n",
              "      <td>Great</td>\n",
              "      <td>My dogs have loved this product for 22+ Years....</td>\n",
              "      <td>5</td>\n",
              "      <td>0</td>\n",
              "    </tr>\n",
              "    <tr>\n",
              "      <th>2</th>\n",
              "      <td>2</td>\n",
              "      <td>Fat free and taste free, sorry to say!</td>\n",
              "      <td>REally wanted to like this but it has no taste...</td>\n",
              "      <td>1</td>\n",
              "      <td>1</td>\n",
              "    </tr>\n",
              "    <tr>\n",
              "      <th>3</th>\n",
              "      <td>3</td>\n",
              "      <td>good stuff!</td>\n",
              "      <td>I really enjoy this product--I just purchased ...</td>\n",
              "      <td>5</td>\n",
              "      <td>0</td>\n",
              "    </tr>\n",
              "    <tr>\n",
              "      <th>4</th>\n",
              "      <td>4</td>\n",
              "      <td>HOW CAN YOU GO WRONG WITH GREENIES</td>\n",
              "      <td>Greenies are a great way to train your cat. If...</td>\n",
              "      <td>5</td>\n",
              "      <td>0</td>\n",
              "    </tr>\n",
              "    <tr>\n",
              "      <th>...</th>\n",
              "      <td>...</td>\n",
              "      <td>...</td>\n",
              "      <td>...</td>\n",
              "      <td>...</td>\n",
              "      <td>...</td>\n",
              "    </tr>\n",
              "    <tr>\n",
              "      <th>85262</th>\n",
              "      <td>85262</td>\n",
              "      <td>Poisons from China</td>\n",
              "      <td>I purchase almost daily from Amazon and recomm...</td>\n",
              "      <td>1</td>\n",
              "      <td>1</td>\n",
              "    </tr>\n",
              "    <tr>\n",
              "      <th>85263</th>\n",
              "      <td>85263</td>\n",
              "      <td>Rich, Robust Flavor, and other good stuff, too.</td>\n",
              "      <td>The following are quotes from the box of Marle...</td>\n",
              "      <td>5</td>\n",
              "      <td>0</td>\n",
              "    </tr>\n",
              "    <tr>\n",
              "      <th>85264</th>\n",
              "      <td>85264</td>\n",
              "      <td>Green tea</td>\n",
              "      <td>I'm new to green tea so I purchased this produ...</td>\n",
              "      <td>3</td>\n",
              "      <td>0</td>\n",
              "    </tr>\n",
              "    <tr>\n",
              "      <th>85265</th>\n",
              "      <td>85265</td>\n",
              "      <td>Bigelow Chai Green Tea</td>\n",
              "      <td>What I was expecting was a chai tea similar to...</td>\n",
              "      <td>1</td>\n",
              "      <td>1</td>\n",
              "    </tr>\n",
              "    <tr>\n",
              "      <th>85266</th>\n",
              "      <td>85266</td>\n",
              "      <td>Made in China- won't buy again</td>\n",
              "      <td>I saw \"Japonica rice\" and made the mistake of ...</td>\n",
              "      <td>2</td>\n",
              "      <td>1</td>\n",
              "    </tr>\n",
              "  </tbody>\n",
              "</table>\n",
              "<p>85267 rows × 5 columns</p>\n",
              "</div>\n",
              "    <div class=\"colab-df-buttons\">\n",
              "\n",
              "  <div class=\"colab-df-container\">\n",
              "    <button class=\"colab-df-convert\" onclick=\"convertToInteractive('df-bc6fc03b-1aa5-44d0-b506-4684abad547f')\"\n",
              "            title=\"Convert this dataframe to an interactive table.\"\n",
              "            style=\"display:none;\">\n",
              "\n",
              "  <svg xmlns=\"http://www.w3.org/2000/svg\" height=\"24px\" viewBox=\"0 -960 960 960\">\n",
              "    <path d=\"M120-120v-720h720v720H120Zm60-500h600v-160H180v160Zm220 220h160v-160H400v160Zm0 220h160v-160H400v160ZM180-400h160v-160H180v160Zm440 0h160v-160H620v160ZM180-180h160v-160H180v160Zm440 0h160v-160H620v160Z\"/>\n",
              "  </svg>\n",
              "    </button>\n",
              "\n",
              "  <style>\n",
              "    .colab-df-container {\n",
              "      display:flex;\n",
              "      gap: 12px;\n",
              "    }\n",
              "\n",
              "    .colab-df-convert {\n",
              "      background-color: #E8F0FE;\n",
              "      border: none;\n",
              "      border-radius: 50%;\n",
              "      cursor: pointer;\n",
              "      display: none;\n",
              "      fill: #1967D2;\n",
              "      height: 32px;\n",
              "      padding: 0 0 0 0;\n",
              "      width: 32px;\n",
              "    }\n",
              "\n",
              "    .colab-df-convert:hover {\n",
              "      background-color: #E2EBFA;\n",
              "      box-shadow: 0px 1px 2px rgba(60, 64, 67, 0.3), 0px 1px 3px 1px rgba(60, 64, 67, 0.15);\n",
              "      fill: #174EA6;\n",
              "    }\n",
              "\n",
              "    .colab-df-buttons div {\n",
              "      margin-bottom: 4px;\n",
              "    }\n",
              "\n",
              "    [theme=dark] .colab-df-convert {\n",
              "      background-color: #3B4455;\n",
              "      fill: #D2E3FC;\n",
              "    }\n",
              "\n",
              "    [theme=dark] .colab-df-convert:hover {\n",
              "      background-color: #434B5C;\n",
              "      box-shadow: 0px 1px 3px 1px rgba(0, 0, 0, 0.15);\n",
              "      filter: drop-shadow(0px 1px 2px rgba(0, 0, 0, 0.3));\n",
              "      fill: #FFFFFF;\n",
              "    }\n",
              "  </style>\n",
              "\n",
              "    <script>\n",
              "      const buttonEl =\n",
              "        document.querySelector('#df-bc6fc03b-1aa5-44d0-b506-4684abad547f button.colab-df-convert');\n",
              "      buttonEl.style.display =\n",
              "        google.colab.kernel.accessAllowed ? 'block' : 'none';\n",
              "\n",
              "      async function convertToInteractive(key) {\n",
              "        const element = document.querySelector('#df-bc6fc03b-1aa5-44d0-b506-4684abad547f');\n",
              "        const dataTable =\n",
              "          await google.colab.kernel.invokeFunction('convertToInteractive',\n",
              "                                                    [key], {});\n",
              "        if (!dataTable) return;\n",
              "\n",
              "        const docLinkHtml = 'Like what you see? Visit the ' +\n",
              "          '<a target=\"_blank\" href=https://colab.research.google.com/notebooks/data_table.ipynb>data table notebook</a>'\n",
              "          + ' to learn more about interactive tables.';\n",
              "        element.innerHTML = '';\n",
              "        dataTable['output_type'] = 'display_data';\n",
              "        await google.colab.output.renderOutput(dataTable, element);\n",
              "        const docLink = document.createElement('div');\n",
              "        docLink.innerHTML = docLinkHtml;\n",
              "        element.appendChild(docLink);\n",
              "      }\n",
              "    </script>\n",
              "  </div>\n",
              "\n",
              "\n",
              "<div id=\"df-16bf9810-717b-422e-bcfd-3a75ca6478d4\">\n",
              "  <button class=\"colab-df-quickchart\" onclick=\"quickchart('df-16bf9810-717b-422e-bcfd-3a75ca6478d4')\"\n",
              "            title=\"Suggest charts\"\n",
              "            style=\"display:none;\">\n",
              "\n",
              "<svg xmlns=\"http://www.w3.org/2000/svg\" height=\"24px\"viewBox=\"0 0 24 24\"\n",
              "     width=\"24px\">\n",
              "    <g>\n",
              "        <path d=\"M19 3H5c-1.1 0-2 .9-2 2v14c0 1.1.9 2 2 2h14c1.1 0 2-.9 2-2V5c0-1.1-.9-2-2-2zM9 17H7v-7h2v7zm4 0h-2V7h2v10zm4 0h-2v-4h2v4z\"/>\n",
              "    </g>\n",
              "</svg>\n",
              "  </button>\n",
              "\n",
              "<style>\n",
              "  .colab-df-quickchart {\n",
              "      --bg-color: #E8F0FE;\n",
              "      --fill-color: #1967D2;\n",
              "      --hover-bg-color: #E2EBFA;\n",
              "      --hover-fill-color: #174EA6;\n",
              "      --disabled-fill-color: #AAA;\n",
              "      --disabled-bg-color: #DDD;\n",
              "  }\n",
              "\n",
              "  [theme=dark] .colab-df-quickchart {\n",
              "      --bg-color: #3B4455;\n",
              "      --fill-color: #D2E3FC;\n",
              "      --hover-bg-color: #434B5C;\n",
              "      --hover-fill-color: #FFFFFF;\n",
              "      --disabled-bg-color: #3B4455;\n",
              "      --disabled-fill-color: #666;\n",
              "  }\n",
              "\n",
              "  .colab-df-quickchart {\n",
              "    background-color: var(--bg-color);\n",
              "    border: none;\n",
              "    border-radius: 50%;\n",
              "    cursor: pointer;\n",
              "    display: none;\n",
              "    fill: var(--fill-color);\n",
              "    height: 32px;\n",
              "    padding: 0;\n",
              "    width: 32px;\n",
              "  }\n",
              "\n",
              "  .colab-df-quickchart:hover {\n",
              "    background-color: var(--hover-bg-color);\n",
              "    box-shadow: 0 1px 2px rgba(60, 64, 67, 0.3), 0 1px 3px 1px rgba(60, 64, 67, 0.15);\n",
              "    fill: var(--button-hover-fill-color);\n",
              "  }\n",
              "\n",
              "  .colab-df-quickchart-complete:disabled,\n",
              "  .colab-df-quickchart-complete:disabled:hover {\n",
              "    background-color: var(--disabled-bg-color);\n",
              "    fill: var(--disabled-fill-color);\n",
              "    box-shadow: none;\n",
              "  }\n",
              "\n",
              "  .colab-df-spinner {\n",
              "    border: 2px solid var(--fill-color);\n",
              "    border-color: transparent;\n",
              "    border-bottom-color: var(--fill-color);\n",
              "    animation:\n",
              "      spin 1s steps(1) infinite;\n",
              "  }\n",
              "\n",
              "  @keyframes spin {\n",
              "    0% {\n",
              "      border-color: transparent;\n",
              "      border-bottom-color: var(--fill-color);\n",
              "      border-left-color: var(--fill-color);\n",
              "    }\n",
              "    20% {\n",
              "      border-color: transparent;\n",
              "      border-left-color: var(--fill-color);\n",
              "      border-top-color: var(--fill-color);\n",
              "    }\n",
              "    30% {\n",
              "      border-color: transparent;\n",
              "      border-left-color: var(--fill-color);\n",
              "      border-top-color: var(--fill-color);\n",
              "      border-right-color: var(--fill-color);\n",
              "    }\n",
              "    40% {\n",
              "      border-color: transparent;\n",
              "      border-right-color: var(--fill-color);\n",
              "      border-top-color: var(--fill-color);\n",
              "    }\n",
              "    60% {\n",
              "      border-color: transparent;\n",
              "      border-right-color: var(--fill-color);\n",
              "    }\n",
              "    80% {\n",
              "      border-color: transparent;\n",
              "      border-right-color: var(--fill-color);\n",
              "      border-bottom-color: var(--fill-color);\n",
              "    }\n",
              "    90% {\n",
              "      border-color: transparent;\n",
              "      border-bottom-color: var(--fill-color);\n",
              "    }\n",
              "  }\n",
              "</style>\n",
              "\n",
              "  <script>\n",
              "    async function quickchart(key) {\n",
              "      const quickchartButtonEl =\n",
              "        document.querySelector('#' + key + ' button');\n",
              "      quickchartButtonEl.disabled = true;  // To prevent multiple clicks.\n",
              "      quickchartButtonEl.classList.add('colab-df-spinner');\n",
              "      try {\n",
              "        const charts = await google.colab.kernel.invokeFunction(\n",
              "            'suggestCharts', [key], {});\n",
              "      } catch (error) {\n",
              "        console.error('Error during call to suggestCharts:', error);\n",
              "      }\n",
              "      quickchartButtonEl.classList.remove('colab-df-spinner');\n",
              "      quickchartButtonEl.classList.add('colab-df-quickchart-complete');\n",
              "    }\n",
              "    (() => {\n",
              "      let quickchartButtonEl =\n",
              "        document.querySelector('#df-16bf9810-717b-422e-bcfd-3a75ca6478d4 button');\n",
              "      quickchartButtonEl.style.display =\n",
              "        google.colab.kernel.accessAllowed ? 'block' : 'none';\n",
              "    })();\n",
              "  </script>\n",
              "</div>\n",
              "\n",
              "  <div id=\"id_aca4efc4-51c6-4011-b867-0fcbafcd18a3\">\n",
              "    <style>\n",
              "      .colab-df-generate {\n",
              "        background-color: #E8F0FE;\n",
              "        border: none;\n",
              "        border-radius: 50%;\n",
              "        cursor: pointer;\n",
              "        display: none;\n",
              "        fill: #1967D2;\n",
              "        height: 32px;\n",
              "        padding: 0 0 0 0;\n",
              "        width: 32px;\n",
              "      }\n",
              "\n",
              "      .colab-df-generate:hover {\n",
              "        background-color: #E2EBFA;\n",
              "        box-shadow: 0px 1px 2px rgba(60, 64, 67, 0.3), 0px 1px 3px 1px rgba(60, 64, 67, 0.15);\n",
              "        fill: #174EA6;\n",
              "      }\n",
              "\n",
              "      [theme=dark] .colab-df-generate {\n",
              "        background-color: #3B4455;\n",
              "        fill: #D2E3FC;\n",
              "      }\n",
              "\n",
              "      [theme=dark] .colab-df-generate:hover {\n",
              "        background-color: #434B5C;\n",
              "        box-shadow: 0px 1px 3px 1px rgba(0, 0, 0, 0.15);\n",
              "        filter: drop-shadow(0px 1px 2px rgba(0, 0, 0, 0.3));\n",
              "        fill: #FFFFFF;\n",
              "      }\n",
              "    </style>\n",
              "    <button class=\"colab-df-generate\" onclick=\"generateWithVariable('df_sample')\"\n",
              "            title=\"Generate code using this dataframe.\"\n",
              "            style=\"display:none;\">\n",
              "\n",
              "  <svg xmlns=\"http://www.w3.org/2000/svg\" height=\"24px\"viewBox=\"0 0 24 24\"\n",
              "       width=\"24px\">\n",
              "    <path d=\"M7,19H8.4L18.45,9,17,7.55,7,17.6ZM5,21V16.75L18.45,3.32a2,2,0,0,1,2.83,0l1.4,1.43a1.91,1.91,0,0,1,.58,1.4,1.91,1.91,0,0,1-.58,1.4L9.25,21ZM18.45,9,17,7.55Zm-12,3A5.31,5.31,0,0,0,4.9,8.1,5.31,5.31,0,0,0,1,6.5,5.31,5.31,0,0,0,4.9,4.9,5.31,5.31,0,0,0,6.5,1,5.31,5.31,0,0,0,8.1,4.9,5.31,5.31,0,0,0,12,6.5,5.46,5.46,0,0,0,6.5,12Z\"/>\n",
              "  </svg>\n",
              "    </button>\n",
              "    <script>\n",
              "      (() => {\n",
              "      const buttonEl =\n",
              "        document.querySelector('#id_aca4efc4-51c6-4011-b867-0fcbafcd18a3 button.colab-df-generate');\n",
              "      buttonEl.style.display =\n",
              "        google.colab.kernel.accessAllowed ? 'block' : 'none';\n",
              "\n",
              "      buttonEl.onclick = () => {\n",
              "        google.colab.notebook.generateWithVariable('df_sample');\n",
              "      }\n",
              "      })();\n",
              "    </script>\n",
              "  </div>\n",
              "\n",
              "    </div>\n",
              "  </div>\n"
            ],
            "application/vnd.google.colaboratory.intrinsic+json": {
              "type": "dataframe",
              "variable_name": "df_sample",
              "summary": "{\n  \"name\": \"df_sample\",\n  \"rows\": 85267,\n  \"fields\": [\n    {\n      \"column\": \"Unnamed: 0\",\n      \"properties\": {\n        \"dtype\": \"number\",\n        \"std\": 24614,\n        \"min\": 0,\n        \"max\": 85266,\n        \"num_unique_values\": 85267,\n        \"samples\": [\n          69970,\n          47338,\n          13178\n        ],\n        \"semantic_type\": \"\",\n        \"description\": \"\"\n      }\n    },\n    {\n      \"column\": \"Summary\",\n      \"properties\": {\n        \"dtype\": \"string\",\n        \"num_unique_values\": 60243,\n        \"samples\": [\n          \"Papaya Mask\",\n          \"Cat loves it!\",\n          \"way too sour\"\n        ],\n        \"semantic_type\": \"\",\n        \"description\": \"\"\n      }\n    },\n    {\n      \"column\": \"Text\",\n      \"properties\": {\n        \"dtype\": \"string\",\n        \"num_unique_values\": 71928,\n        \"samples\": [\n          \"I had never tried lara bars before and I loved them!  Seller was speedy and efficient.  A+++!!\",\n          \"worst product I ever tasted, I had to dispose of it.<br />I don't recommend this product to anyone, not tasty, I doubt its healthy, and it is overpriced!\",\n          \"I had the best ice tea ever at a bar and grill (Chuy's) in Phoenix Arizona.<br />I inquired and found that they used Farmer Brother's Ice Tea.<br />Now, I can enjoy the best ice tea ever at home!\"\n        ],\n        \"semantic_type\": \"\",\n        \"description\": \"\"\n      }\n    },\n    {\n      \"column\": \"Score\",\n      \"properties\": {\n        \"dtype\": \"number\",\n        \"std\": 1,\n        \"min\": 1,\n        \"max\": 5,\n        \"num_unique_values\": 5,\n        \"samples\": [\n          1,\n          3,\n          2\n        ],\n        \"semantic_type\": \"\",\n        \"description\": \"\"\n      }\n    },\n    {\n      \"column\": \"Negative\",\n      \"properties\": {\n        \"dtype\": \"number\",\n        \"std\": 0,\n        \"min\": 0,\n        \"max\": 1,\n        \"num_unique_values\": 2,\n        \"samples\": [\n          1,\n          0\n        ],\n        \"semantic_type\": \"\",\n        \"description\": \"\"\n      }\n    }\n  ]\n}"
            }
          },
          "metadata": {},
          "execution_count": 19
        }
      ]
    },
    {
      "cell_type": "markdown",
      "source": [
        "## 4. División de los datos"
      ],
      "metadata": {
        "id": "zHf1pvRrIJ-w"
      }
    },
    {
      "cell_type": "markdown",
      "source": [
        "Se crean los conjuntos de entrenamiento, validación y pruebas"
      ],
      "metadata": {
        "id": "5xszls1Xnmt6"
      }
    },
    {
      "cell_type": "markdown",
      "source": [
        "> Se divide el dataset en:\n",
        "* 80% entrenamiento.\n",
        "* 10% validación.\n",
        "* 10% prueba.\n",
        "* Se utiliza stratify=y para mantener la proporción original de clases."
      ],
      "metadata": {
        "id": "NLX6E5CPIUnN"
      }
    },
    {
      "cell_type": "code",
      "source": [
        "y = df_sample['Negative'].values\n",
        "\n",
        "X_train_raw, X_test_raw, y_train, y_test = train_test_split(df_sample['Text'].values, y, test_size=0.2, random_state=642, stratify=y)\n",
        "X_train_raw, X_val_raw, y_train, y_val = train_test_split(X_train_raw, y_train, test_size=0.25, random_state=473, stratify=y_train)\n",
        "print(f\"Training set size: {len(X_train_raw)}\")\n",
        "print(f\"Validation set size: {len(X_val_raw)}\")\n",
        "print(f\"Test set size: {len(X_test_raw)}\")"
      ],
      "metadata": {
        "colab": {
          "base_uri": "https://localhost:8080/"
        },
        "id": "-xs8AGiznmSt",
        "outputId": "9aca3234-4352-4499-efbc-173b307be016"
      },
      "execution_count": null,
      "outputs": [
        {
          "output_type": "stream",
          "name": "stdout",
          "text": [
            "Training set size: 51159\n",
            "Validation set size: 17054\n",
            "Test set size: 17054\n"
          ]
        }
      ]
    },
    {
      "cell_type": "markdown",
      "source": [
        "## 5. Limpieza y Preprocesamiento"
      ],
      "metadata": {
        "id": "lT3xEffZnuwI"
      }
    },
    {
      "cell_type": "code",
      "source": [
        "nltk.download('punkt') # este ya va de salida\n",
        "nltk.download('punkt_tab')\n",
        "nltk.download('stopwords')\n",
        "\n",
        "stop_words = set(stopwords.words('english'))\n",
        "stop_words.discard('not')\n",
        "stop_words.discard('no')\n",
        "stop_words.discard('we')\n",
        "stop_words.discard('you')\n",
        "stop_words.discard('i')\n",
        "stop_words.discard('he')\n",
        "stop_words.discard('she')\n",
        "stop_words.discard('they')\n",
        "stop_words.discard('there')\n",
        "stop_words.discard('our')\n",
        "stop_words.discard('us')\n",
        "stop_words.discard('my')\n",
        "\n",
        "contractions = {\"don't\": \"do not\", \"can't\": \"cannot\", \"won't\": \"will not\", \"it's\": \"it is\", \"they're\": \"they are\" ,\"we're\": \"we are\", \"i'm\": \"i am\", \"you're\": \"you are\", \"there's\": \"there is\",\"there're\": \"there are\"}"
      ],
      "metadata": {
        "colab": {
          "base_uri": "https://localhost:8080/"
        },
        "id": "c7rNkWW_ntzm",
        "outputId": "a31abcf5-35e1-4c48-fb2c-58709566475d"
      },
      "execution_count": 4,
      "outputs": [
        {
          "output_type": "stream",
          "name": "stderr",
          "text": [
            "[nltk_data] Downloading package punkt to /root/nltk_data...\n",
            "[nltk_data]   Unzipping tokenizers/punkt.zip.\n",
            "[nltk_data] Downloading package punkt_tab to /root/nltk_data...\n",
            "[nltk_data]   Unzipping tokenizers/punkt_tab.zip.\n",
            "[nltk_data] Downloading package stopwords to /root/nltk_data...\n",
            "[nltk_data]   Unzipping corpora/stopwords.zip.\n"
          ]
        }
      ]
    },
    {
      "cell_type": "markdown",
      "source": [
        "### Funciones para el preprocesamiento"
      ],
      "metadata": {
        "id": "_kY_Y1BDoPHR"
      }
    },
    {
      "cell_type": "code",
      "source": [
        "def clean_text(text):\n",
        "\n",
        "    text = text.lower()\n",
        "\n",
        "    #text = re.sub(r'\\d+', ' ', text)  # Eliminando números\n",
        "\n",
        "    # Eliminar espacios antes de signos de puntuación\n",
        "    text = re.sub(r'\\s+([.,!?;:])', r'\\1', text)\n",
        "\n",
        "    # Eliminando todas las comillas dobles\n",
        "    text = text.replace('\"', '')\n",
        "\n",
        "    # Eliminando etiquetas HTML completas, incluyendo <a> y su contenido\n",
        "    text = re.sub(r'<a.*?>.*?</a>', '', text, flags=re.DOTALL)\n",
        "\n",
        "    # Eliminando etiquetas HTML\n",
        "    text = BeautifulSoup(text, \"html.parser\").get_text()\n",
        "\n",
        "    # Eliminando URLs\n",
        "    text = re.sub(r'http\\S+|www\\.\\S+', '', text)\n",
        "\n",
        "    # Eliminando diagonales invertidas que preceden a apóstrofes o comillas escapadas\n",
        "    text = re.sub(r\"\\\\(['\\\"])\", r'\\1', text)\n",
        "\n",
        "    # Eliminando caracteres de escape como \\n, \\t, y diagonales inversas (\\)\n",
        "    text = re.sub(r'\\\\', '', text)\n",
        "\n",
        "    # Eliminando caracteres especiales y diagonales normales\n",
        "    #text = re.sub(r'[/]', '', text)\n",
        "\n",
        "    # Eliminando comillas escapadas\n",
        "    #text = text.replace('\\'', \"'\").replace('\\\"', '\"')\n",
        "\n",
        "    # Eliminando caracteres especiales y diagonales\n",
        "    #text = re.sub(r'[/\\\\]', ' ', text)\n",
        "\n",
        "    # Eliminandp comillas escapadas y otras entidades\n",
        "    #text = text.replace('\\\\', '').replace('\\'', \"'\").replace('\\\"', '\"')\n",
        "\n",
        "    # Eliminando cualquier otro patrón que quieras limpiar\n",
        "    text = re.sub(r'\\s+', ' ', text)  # Asegurar que no haya espacios repetidos\n",
        "\n",
        "    return text.strip()\n",
        "\n",
        "def expand_contractions(text):\n",
        "    for contraction, expanded in contractions.items():\n",
        "        text = text.replace(contraction, expanded)\n",
        "    return text\n",
        "\n",
        "# Funcion que se va utilizar para preprocesado de los datos\n",
        "def preprocess_data(raw_data):\n",
        "    raw_data = [clean_text(doc) for doc in raw_data]\n",
        "    #raw_data = [expand_contractions(doc) for doc in raw_data]\n",
        "    #tokenized_docs = [[word for word in word_tokenize(doc) if word not in stopwords and word not in punctuation] for doc in raw_data]\n",
        "    tokenized_docs = [[word for word in word_tokenize(doc) if word not in stop_words] for doc in raw_data]\n",
        "    processed_docs = [' '.join(doc) for doc in tokenized_docs]\n",
        "    processed_docs = [re.sub(r'\\s+([.,!?;:\\'])', r'\\1', doc) for doc in processed_docs]\n",
        "    #processed_docs = [expand_contractions(doc) for doc in processed_docs]\n",
        "    return processed_docs"
      ],
      "metadata": {
        "id": "MHbTtHqpoAde"
      },
      "execution_count": 5,
      "outputs": []
    },
    {
      "cell_type": "markdown",
      "source": [
        "> Pasos de limpieza:\n",
        "* Convertimos a minúsculas.\n",
        "* Eliminamos números, etiquetas HTML, URLs y caracteres especiales.\n",
        "* Reducimos múltiples espacios a uno solo.\n",
        "* Se procede a eliminar etiquetas html, puesto que observamos que hay muchas etiquetas que pueden hacer ruido."
      ],
      "metadata": {
        "id": "mKYpY52sOx1B"
      }
    },
    {
      "cell_type": "markdown",
      "source": [
        "## 6. Tokenización y eliminación de stopwords"
      ],
      "metadata": {
        "id": "eYFr2iIBQMgD"
      }
    },
    {
      "cell_type": "code",
      "source": [
        "X_train_raw = preprocess_data(X_train_raw)\n",
        "X_test_raw = preprocess_data(X_test_raw)\n",
        "X_val_raw = preprocess_data(X_val_raw)"
      ],
      "metadata": {
        "colab": {
          "base_uri": "https://localhost:8080/"
        },
        "id": "BlT1zyuaoCB4",
        "outputId": "6b2d1d3f-e152-49ee-9ad0-ed8d6e2de1b0"
      },
      "execution_count": null,
      "outputs": [
        {
          "output_type": "stream",
          "name": "stderr",
          "text": [
            "<ipython-input-22-a98d433aeefd>:17: MarkupResemblesLocatorWarning: The input looks more like a filename than markup. You may want to open this file and pass the filehandle into Beautiful Soup.\n",
            "  text = BeautifulSoup(text, \"html.parser\").get_text()\n"
          ]
        }
      ]
    },
    {
      "cell_type": "markdown",
      "source": [
        "\n",
        "---\n",
        "\n",
        "---\n",
        "\n",
        "## **Entrenamiento para Modelo BERT**"
      ],
      "metadata": {
        "id": "AzWbRAYqo4To"
      }
    },
    {
      "cell_type": "code",
      "source": [
        "# Verificar si se dispone de GPU\n",
        "device = torch.device(\"cuda\" if torch.cuda.is_available() else \"cpu\")\n",
        "print(\"Usando dispositivo:\", device)"
      ],
      "metadata": {
        "colab": {
          "base_uri": "https://localhost:8080/"
        },
        "id": "1oUdCaonq3rJ",
        "outputId": "0f10f16e-effa-47a4-d126-1bc98fbe2ce3"
      },
      "execution_count": null,
      "outputs": [
        {
          "output_type": "stream",
          "name": "stdout",
          "text": [
            "Usando dispositivo: cuda\n"
          ]
        }
      ]
    },
    {
      "cell_type": "markdown",
      "source": [
        "### 7. Configuración del modelo preentrenado"
      ],
      "metadata": {
        "id": "UQe8lsBBQikT"
      }
    },
    {
      "cell_type": "markdown",
      "source": [
        "> ALBERT-base-v2: Este modelo se uso por ser un modelo ligero de BERT optimizado para tareas de clasificación.\n",
        "* Tokenización: Traduce texto a representaciones numéricas compatibles con el modelo.\n",
        "* Clasificación: num_labels=2 indica una tarea binaria."
      ],
      "metadata": {
        "id": "suP4eH7b4vxp"
      }
    },
    {
      "cell_type": "code",
      "source": [
        "# Paso 1: Selección del modelo preentrenado\n",
        "\n",
        "model_name = \"albert-base-v2\"  # Cambia por otros modelos si lo deseas\n",
        "tokenizer = AutoTokenizer.from_pretrained(model_name)\n",
        "model = AutoModelForSequenceClassification.from_pretrained(model_name, num_labels=2).to(device)\n",
        "\n",
        "#model_name = \"nlptown/bert-base-multilingual-uncased-sentiment\"\n",
        "#tokenizer = AutoTokenizer.from_pretrained(model_name)\n",
        "#model = AutoModelForSequenceClassification.from_pretrained(\n",
        "#    model_name,\n",
        "#    num_labels=2,\n",
        "#    ignore_mismatched_sizes=True\n",
        "#).to(device)\n"
      ],
      "metadata": {
        "colab": {
          "base_uri": "https://localhost:8080/",
          "height": 336,
          "referenced_widgets": [
            "eb9af5b14d0c46eb81afdb8c2441b605",
            "d96cc2af382e4c9fbaf1b8f3e40e0d37",
            "6ae4a81cd20e4c7aa4ff61519ef25faa",
            "908a84f6a82143c2b0a5d23c117fdf50",
            "84c3d75e0604449d90ff18b90076d528",
            "a2f10a85fe7c4b6999e51f6d612f6d80",
            "bdeea2835554425fa9386539e3e9b527",
            "33041cc9a1e74c6ab55de2797a97944e",
            "b5552e689af145bba33870d0c7321327",
            "a15c3c7949ac45beaf2e2b26fb6a4e8a",
            "11def2e16dfb4fc08ad3093d58dda13c",
            "2d68f44ddc734f10afe7a18cd5763a30",
            "6f1b58d55b3b485690bc0e577fce47c6",
            "d56955762f7540b78956c844e9ef7cc2",
            "01635db726c84b319dc6ae079797855c",
            "e4722442dc8a44feaa742f3828d01f1e",
            "3743c0686944405aa77b49e93ffe7b9c",
            "5ab54f38bbbf4a04b2a4965541457194",
            "6a6bd1aec1b3408d99d622d882b6da68",
            "fff4b75c427148c9a84a806ac62e97d3",
            "c3f0cac47b4b40e08ad7ede7a48750ba",
            "da4fc523b3444a9c824363991c9ad607",
            "62f07777444c4b108dd05681a9a5e243",
            "90baaa8c7448437b8b68de636dfcdfee",
            "065a3afa494c48008b401ee09c2fae7e",
            "64d991b3cda64dddaf255034a8bf0ac8",
            "f7f972e5354e42b08811776e2f21f1b5",
            "f756b100d7e84f3caecd3530b4c190a0",
            "3f98bf9c883a4f45a34e69816ca3baa5",
            "a38f6c4de17b463ba5ee956c89f14726",
            "c7f42c2798b84cabbf087798bf15d7f1",
            "dd9a11ac0d2d428ba4825ecac42e5975",
            "66f7d30e9d1f4cb69d311ef4fd8fcb62",
            "2bbfb2cbc0c241b5b4abd44c3dbae091",
            "e9a2324ff352447c8faba4dba78de217",
            "9ee7df331e514a9bbbd32a5f3780bb69",
            "2e47ddce581f44bc8ac8e1187a48bb88",
            "29f6f8c9fe16422c91a31db4bc220f03",
            "fd0581da524f4450b60b00edc0c4efa7",
            "9b9fdd52e4394b6c80528fadbd628275",
            "aaa944e407d14ac19046ba5a494f9fed",
            "f0ccd4e445db473babebbb3b9f965bb4",
            "d2e5bfe472434ff3bc9d2b563a96b758",
            "8f68e14bf9614154b80219f242808aa2",
            "5fa8d89001b04078b4bd201a0f925cbf",
            "f996bbeaf62f452db97e3c6e2e60aac9",
            "3f40d7ed7ac14106b7b891929bf68ffa",
            "e11cec0ce42f444c86db71ac929e3994",
            "2c61104753be4c3d9c9fceb025c191cd",
            "e8149cea9bd545e2b1a3e4037596daea",
            "4c7f2d6742b943108ab27afe4cab5340",
            "23d659c1250e49689864b8bde9b20932",
            "3955701683c14fed9af78db743458a74",
            "10b309e00b0e424da03b4865dcd5ef29",
            "2cfddb361ded48c89951695fd38991fc"
          ]
        },
        "id": "7K7Dq5dQq6-f",
        "outputId": "045cdc32-5cb9-4c69-d6c5-5ca39b0eaf53"
      },
      "execution_count": null,
      "outputs": [
        {
          "output_type": "stream",
          "name": "stderr",
          "text": [
            "/usr/local/lib/python3.10/dist-packages/huggingface_hub/utils/_auth.py:94: UserWarning: \n",
            "The secret `HF_TOKEN` does not exist in your Colab secrets.\n",
            "To authenticate with the Hugging Face Hub, create a token in your settings tab (https://huggingface.co/settings/tokens), set it as secret in your Google Colab and restart your session.\n",
            "You will be able to reuse this secret in all of your notebooks.\n",
            "Please note that authentication is recommended but still optional to access public models or datasets.\n",
            "  warnings.warn(\n"
          ]
        },
        {
          "output_type": "display_data",
          "data": {
            "text/plain": [
              "tokenizer_config.json:   0%|          | 0.00/25.0 [00:00<?, ?B/s]"
            ],
            "application/vnd.jupyter.widget-view+json": {
              "version_major": 2,
              "version_minor": 0,
              "model_id": "eb9af5b14d0c46eb81afdb8c2441b605"
            }
          },
          "metadata": {}
        },
        {
          "output_type": "display_data",
          "data": {
            "text/plain": [
              "config.json:   0%|          | 0.00/684 [00:00<?, ?B/s]"
            ],
            "application/vnd.jupyter.widget-view+json": {
              "version_major": 2,
              "version_minor": 0,
              "model_id": "2d68f44ddc734f10afe7a18cd5763a30"
            }
          },
          "metadata": {}
        },
        {
          "output_type": "display_data",
          "data": {
            "text/plain": [
              "spiece.model:   0%|          | 0.00/760k [00:00<?, ?B/s]"
            ],
            "application/vnd.jupyter.widget-view+json": {
              "version_major": 2,
              "version_minor": 0,
              "model_id": "62f07777444c4b108dd05681a9a5e243"
            }
          },
          "metadata": {}
        },
        {
          "output_type": "display_data",
          "data": {
            "text/plain": [
              "tokenizer.json:   0%|          | 0.00/1.31M [00:00<?, ?B/s]"
            ],
            "application/vnd.jupyter.widget-view+json": {
              "version_major": 2,
              "version_minor": 0,
              "model_id": "2bbfb2cbc0c241b5b4abd44c3dbae091"
            }
          },
          "metadata": {}
        },
        {
          "output_type": "display_data",
          "data": {
            "text/plain": [
              "model.safetensors:   0%|          | 0.00/47.4M [00:00<?, ?B/s]"
            ],
            "application/vnd.jupyter.widget-view+json": {
              "version_major": 2,
              "version_minor": 0,
              "model_id": "5fa8d89001b04078b4bd201a0f925cbf"
            }
          },
          "metadata": {}
        },
        {
          "output_type": "stream",
          "name": "stderr",
          "text": [
            "Some weights of AlbertForSequenceClassification were not initialized from the model checkpoint at albert-base-v2 and are newly initialized: ['classifier.bias', 'classifier.weight']\n",
            "You should probably TRAIN this model on a down-stream task to be able to use it for predictions and inference.\n"
          ]
        }
      ]
    },
    {
      "cell_type": "markdown",
      "source": [
        "\n",
        "\n",
        "> Las siguientes líneas preparan los conjuntos de datos en un formato compatible con el modelo BERT, asegurando que todas las secuencias tengan una longitud uniforme y que la información irrelevante (como el padding) sea ignorada.\n",
        "\n",
        "\n",
        "\n",
        "> * Le damos un max_lenght un poco mayor para poder capturar suficiente informacion del texto pero manteniendo un performance adecuado.\n",
        "* Aplicamos un retur_tensor pt para devolver como tensores los datos procesados para el modelo."
      ],
      "metadata": {
        "id": "0A2OVhi7Afx0"
      }
    },
    {
      "cell_type": "code",
      "source": [
        "train_encodings = tokenizer(list(X_train_raw), truncation=True, padding=True, max_length=256, return_tensors=\"pt\")\n",
        "val_encodings = tokenizer(list(X_val_raw), truncation=True, padding=True, max_length=256, return_tensors=\"pt\")\n",
        "test_encodings = tokenizer(list(X_test_raw), truncation=True, padding=True, max_length=256, return_tensors=\"pt\")"
      ],
      "metadata": {
        "id": "CnBtrp7krE4N"
      },
      "execution_count": null,
      "outputs": []
    },
    {
      "cell_type": "markdown",
      "source": [
        "\n",
        "\n",
        "> La clase SentimentDataset hereda de torch.utils.data.Dataset, una clase base de PyTorch que se utiliza para manejar datasets personalizados. El objetivo de esta funcion es crear un dataset compatible con el framework de Hugging Face, transformando las entradas tokenizadas (encodings) y las etiquetas (labels) en un formato que puede ser procesado por PyTorch para entrenamiento o inferencia.\n",
        "\n"
      ],
      "metadata": {
        "id": "9q1ZCAKsCaMP"
      }
    },
    {
      "cell_type": "code",
      "source": [
        "class SentimentDataset(torch.utils.data.Dataset):\n",
        "    def __init__(self, encodings, labels):\n",
        "        self.encodings = encodings\n",
        "        self.labels = labels\n",
        "\n",
        "    def __len__(self):\n",
        "        return len(self.labels)\n",
        "\n",
        "    def __getitem__(self, idx):\n",
        "        item = {key: val[idx] for key, val in self.encodings.items()}\n",
        "        item[\"labels\"] = torch.tensor(self.labels[idx], dtype=torch.long)\n",
        "        return item"
      ],
      "metadata": {
        "id": "wy7Ob2q9rWX0"
      },
      "execution_count": null,
      "outputs": []
    },
    {
      "cell_type": "markdown",
      "source": [
        "\n",
        "\n",
        "> La clase SentimentDataset adapta los datos tokenizados y las etiquetas a un formato compatible con PyTorch. Esto permite:\n",
        "1. Facilitar la iteración sobre el dataset durante el entrenamiento y la\n",
        "validación.\n",
        "2. Integrarse con herramientas de Hugging Face como Trainer o DataLoader.\n",
        "3. Garantizar un formato estándar que el modelo puede procesar eficientemente.\n",
        "\n"
      ],
      "metadata": {
        "id": "v9mqTUqSDJ_f"
      }
    },
    {
      "cell_type": "code",
      "source": [
        "train_dataset = SentimentDataset(train_encodings, y_train)\n",
        "val_dataset = SentimentDataset(val_encodings, y_val)"
      ],
      "metadata": {
        "id": "ZBWmhJDnrkEy"
      },
      "execution_count": null,
      "outputs": []
    },
    {
      "cell_type": "markdown",
      "source": [
        "### 8. Configuración del entrenamiento"
      ],
      "metadata": {
        "id": "-vdqgg8vDoSJ"
      }
    },
    {
      "cell_type": "code",
      "source": [
        "def compute_metrics(eval_pred):\n",
        "    predictions, labels = eval_pred\n",
        "    #probs = torch.nn.functional.softmax(torch.tensor(predictions), dim=-1).numpy()\n",
        "    predictions = predictions.argmax(axis=-1)  # Predicción de clases\n",
        "    accuracy = accuracy_score(labels, predictions)\n",
        "    precision, recall, f1, _ = precision_recall_fscore_support(labels, predictions, average=\"weighted\")\n",
        "    return {\n",
        "        \"accuracy\": accuracy,\n",
        "        \"precision\": precision,\n",
        "        \"recall\": recall,\n",
        "        \"f1\": f1,\n",
        "    }"
      ],
      "metadata": {
        "id": "BcX1x4Sprtfu"
      },
      "execution_count": null,
      "outputs": []
    },
    {
      "cell_type": "code",
      "source": [
        "# Configurando el entrenamiento\n",
        "training_args = TrainingArguments(\n",
        "    output_dir=\"./results\",              # Carpeta de salida\n",
        "    evaluation_strategy=\"epoch\",        # Evaluación por época\n",
        "    learning_rate=2e-5,                 # Tasa de aprendizaje\n",
        "    per_device_train_batch_size=16,     # Tamaño de lote\n",
        "    per_device_eval_batch_size=32,      # Tamaño de lote para validación\n",
        "    num_train_epochs=3,                 # Número de épocas\n",
        "    weight_decay=0.01,                  # Decaimiento del peso\n",
        "    save_strategy=\"epoch\",              # Guardar el modelo cada época\n",
        "    logging_dir=\"./logs\",               # Carpeta para logs\n",
        "    load_best_model_at_end=True,         # Cargar el mejor modelo al final\n",
        "    metric_for_best_model=\"accuracy\",\n",
        "    report_to=\"none\"\n",
        ")"
      ],
      "metadata": {
        "colab": {
          "base_uri": "https://localhost:8080/"
        },
        "id": "Ldjbpc7Lr-38",
        "outputId": "107c8c95-dffb-46db-ef4f-17d291886f06"
      },
      "execution_count": null,
      "outputs": [
        {
          "output_type": "stream",
          "name": "stderr",
          "text": [
            "/usr/local/lib/python3.10/dist-packages/transformers/training_args.py:1568: FutureWarning: `evaluation_strategy` is deprecated and will be removed in version 4.46 of 🤗 Transformers. Use `eval_strategy` instead\n",
            "  warnings.warn(\n"
          ]
        }
      ]
    },
    {
      "cell_type": "markdown",
      "source": [
        "\n",
        "\n",
        "> * Se deja una taza de aprendizaje de 2e-5 para ajustar los pesos del modelo con pequenos pasos en cada iteracion, y se deja ese valor puesto que los modelos BERT ya estan preentrenados y se necesitan ajustes mas finos (por lo que hacemos un fine-tuning), asi evitamos sobre ajuste.\n",
        "* Se deja a tres epocas, debido a que vemos que son las indicadas en el ntraminto del modelo, pues si aumentamos tiende a disminuir el score para detectar neegativos.\n",
        "* Se deja un tamano de lote 16 y 32 siendo estos valores los que mejor se ajustaron al entramiento.\n",
        "\n"
      ],
      "metadata": {
        "id": "onA0NvoqGreN"
      }
    },
    {
      "cell_type": "markdown",
      "source": [
        "### 9. Entrenamiento del modelo"
      ],
      "metadata": {
        "id": "srCoHJ4pEC92"
      }
    },
    {
      "cell_type": "code",
      "source": [
        "trainer = Trainer(\n",
        "    model=model,\n",
        "    args=training_args,\n",
        "    train_dataset=train_dataset,\n",
        "    eval_dataset=val_dataset,\n",
        "    tokenizer=tokenizer,\n",
        "    compute_metrics=compute_metrics,\n",
        ")\n",
        "\n",
        "# Entrenadno el modelo\n",
        "trainer.train()"
      ],
      "metadata": {
        "colab": {
          "base_uri": "https://localhost:8080/",
          "height": 259
        },
        "id": "9Ce_4VgksDL5",
        "outputId": "554e83c0-ab1d-4d81-d019-8c44a4073dd0"
      },
      "execution_count": null,
      "outputs": [
        {
          "output_type": "stream",
          "name": "stderr",
          "text": [
            "<ipython-input-31-7ba96353f806>:1: FutureWarning: `tokenizer` is deprecated and will be removed in version 5.0.0 for `Trainer.__init__`. Use `processing_class` instead.\n",
            "  trainer = Trainer(\n"
          ]
        },
        {
          "output_type": "display_data",
          "data": {
            "text/plain": [
              "<IPython.core.display.HTML object>"
            ],
            "text/html": [
              "\n",
              "    <div>\n",
              "      \n",
              "      <progress value='9594' max='9594' style='width:300px; height:20px; vertical-align: middle;'></progress>\n",
              "      [9594/9594 30:36, Epoch 3/3]\n",
              "    </div>\n",
              "    <table border=\"1\" class=\"dataframe\">\n",
              "  <thead>\n",
              " <tr style=\"text-align: left;\">\n",
              "      <th>Epoch</th>\n",
              "      <th>Training Loss</th>\n",
              "      <th>Validation Loss</th>\n",
              "      <th>Accuracy</th>\n",
              "      <th>Precision</th>\n",
              "      <th>Recall</th>\n",
              "      <th>F1</th>\n",
              "    </tr>\n",
              "  </thead>\n",
              "  <tbody>\n",
              "    <tr>\n",
              "      <td>1</td>\n",
              "      <td>0.264700</td>\n",
              "      <td>0.220422</td>\n",
              "      <td>0.915211</td>\n",
              "      <td>0.915346</td>\n",
              "      <td>0.915211</td>\n",
              "      <td>0.915185</td>\n",
              "    </tr>\n",
              "    <tr>\n",
              "      <td>2</td>\n",
              "      <td>0.207200</td>\n",
              "      <td>0.257682</td>\n",
              "      <td>0.926000</td>\n",
              "      <td>0.926246</td>\n",
              "      <td>0.926000</td>\n",
              "      <td>0.925968</td>\n",
              "    </tr>\n",
              "    <tr>\n",
              "      <td>3</td>\n",
              "      <td>0.134600</td>\n",
              "      <td>0.327881</td>\n",
              "      <td>0.928873</td>\n",
              "      <td>0.929074</td>\n",
              "      <td>0.928873</td>\n",
              "      <td>0.928847</td>\n",
              "    </tr>\n",
              "  </tbody>\n",
              "</table><p>"
            ]
          },
          "metadata": {}
        },
        {
          "output_type": "execute_result",
          "data": {
            "text/plain": [
              "TrainOutput(global_step=9594, training_loss=0.2163623020950645, metrics={'train_runtime': 1837.5576, 'train_samples_per_second': 83.522, 'train_steps_per_second': 5.221, 'total_flos': 1833904481909760.0, 'train_loss': 0.2163623020950645, 'epoch': 3.0})"
            ]
          },
          "metadata": {},
          "execution_count": 31
        }
      ]
    },
    {
      "cell_type": "markdown",
      "source": [
        "> Interpretación:\n",
        "1. Training Loss: Disminuye con cada época, lo que indica que nuestro modelo mejora su capacidad para ajustarse al conjunto de entrenamiento.\n",
        "  * La pérdida pasó de 0.2647 en la primera época a 0.1346 en la tercera. Esto es un buen indicador de que nuestro modelo está aprendiendo.\n",
        "2. Validation Loss: Aumenta ligeramente en la tercera época (0.3279), lo que puede ser un indicador de sobreajuste.\n",
        "  * Esto sugiere que nuestro modelo empieza a memorizar el conjunto de entrenamiento en lugar de generalizar.\n",
        "3. Accuracy, Precision, Recall y F1:\n",
        "  * Todas estas métricas son consistentes y mejoran con cada época.\n",
        "  * En la tercera época, se alcanzo una precisión y un F1-score cercanos al 93%, lo que refleja un excelente desempeño."
      ],
      "metadata": {
        "id": "hMNgKCxRqA3f"
      }
    },
    {
      "cell_type": "markdown",
      "source": [
        "### **10. GUARDADO DEL MODELO**"
      ],
      "metadata": {
        "id": "ArGBI02KIXSW"
      }
    },
    {
      "cell_type": "code",
      "source": [
        "# Guardar el modelo entrenado y el tokenizer\n",
        "save_path = \"./saved_model_albert_1_PLN\"\n",
        "model.save_pretrained(save_path)\n",
        "tokenizer.save_pretrained(save_path)\n",
        "print(f\"Modelo y tokenizer guardados en {save_path}\")"
      ],
      "metadata": {
        "colab": {
          "base_uri": "https://localhost:8080/"
        },
        "id": "O5DqGOMDHwSn",
        "outputId": "2e624e08-85d4-4327-e757-ddc844abdc49"
      },
      "execution_count": null,
      "outputs": [
        {
          "output_type": "stream",
          "name": "stdout",
          "text": [
            "Modelo y tokenizer guardados en ./saved_model_albert_1_PLN\n"
          ]
        }
      ]
    },
    {
      "cell_type": "code",
      "source": [
        "!zip -r saved_model_albert.zip ./saved_model_albert_1_PLN"
      ],
      "metadata": {
        "colab": {
          "base_uri": "https://localhost:8080/"
        },
        "id": "z9-6wjCzIEtJ",
        "outputId": "9ad68be5-7a88-4d9f-d714-3b1410093584"
      },
      "execution_count": null,
      "outputs": [
        {
          "output_type": "stream",
          "name": "stdout",
          "text": [
            "  adding: saved_model_albert_1_PLN/ (stored 0%)\n",
            "  adding: saved_model_albert_1_PLN/tokenizer_config.json (deflated 76%)\n",
            "  adding: saved_model_albert_1_PLN/special_tokens_map.json (deflated 49%)\n",
            "  adding: saved_model_albert_1_PLN/tokenizer.json (deflated 75%)\n",
            "  adding: saved_model_albert_1_PLN/model.safetensors (deflated 7%)\n",
            "  adding: saved_model_albert_1_PLN/config.json (deflated 53%)\n",
            "  adding: saved_model_albert_1_PLN/spiece.model (deflated 49%)\n"
          ]
        }
      ]
    },
    {
      "cell_type": "markdown",
      "source": [
        "### **11. EVALUANDO EL MODELO**"
      ],
      "metadata": {
        "id": "AhxJ7u1-IgqX"
      }
    },
    {
      "cell_type": "code",
      "source": [
        "# Paso 5: Evaluación en el conjunto de prueba\n",
        "predictions = trainer.predict(SentimentDataset(test_encodings, y_test))\n",
        "y_pred = np.argmax(predictions.predictions, axis=1)\n",
        "\n",
        "# Reporte de clasificación\n",
        "print(\"Reporte de Clasificación:\")\n",
        "print(classification_report(y_test, y_pred, target_names=[\"No Negativo\", \"Negativo\"]))"
      ],
      "metadata": {
        "colab": {
          "base_uri": "https://localhost:8080/",
          "height": 191
        },
        "id": "iX9vGmqE-7c6",
        "outputId": "ba0c145e-bdac-4282-cd17-9bf30f237d5a"
      },
      "execution_count": null,
      "outputs": [
        {
          "output_type": "display_data",
          "data": {
            "text/plain": [
              "<IPython.core.display.HTML object>"
            ],
            "text/html": []
          },
          "metadata": {}
        },
        {
          "output_type": "stream",
          "name": "stdout",
          "text": [
            "Reporte de Clasificación:\n",
            "              precision    recall  f1-score   support\n",
            "\n",
            " No Negativo       0.94      0.92      0.93      8356\n",
            "    Negativo       0.92      0.94      0.93      8698\n",
            "\n",
            "    accuracy                           0.93     17054\n",
            "   macro avg       0.93      0.93      0.93     17054\n",
            "weighted avg       0.93      0.93      0.93     17054\n",
            "\n"
          ]
        }
      ]
    },
    {
      "cell_type": "markdown",
      "source": [
        "> Interpretación:\n",
        "1. Precision:\n",
        "  * No Negativo (0.94): De todas las opiniones clasificadas como \"No Negativo\", el 94% eran correctas.\n",
        "  * Negativo (0.92): De todas las opiniones clasificadas como \"Negativo\", el 92% eran correctas.\n",
        "  * Nuestro modelo tiende a ser ligeramente más preciso en clasificar opiniones No Negativas.\n",
        "2. Recall:\n",
        "  * No Negativo (0.92): Nuestro modelo identificó correctamente el 92% de las opiniones \"No Negativas\".\n",
        "  * Negativo (0.94): Nuestro modelo identificó correctamente el 94% de las opiniones \"Negativas\".\n",
        "  * Nuestro modelo tiene mejor capacidad para encontrar opiniones Negativas.\n",
        "3. F1-Score:\n",
        "  * Ambas clases tienen un F1-Score de 0.93, lo que indica un equilibrio sólido entre precisión y recall para ambas clases.\n",
        "4. Accuracy:\n",
        "  * La precisión general del modelo es 93%, lo que refleja un muy buen desempeño en el conjunto de prueba."
      ],
      "metadata": {
        "id": "FgBrR7BBr9Nd"
      }
    },
    {
      "cell_type": "code",
      "source": [
        "# AUC-ROC\n",
        "probs = torch.nn.functional.softmax(torch.tensor(predictions.predictions), dim=-1).numpy()\n",
        "auc_score = roc_auc_score(y_test, probs[:, 1])\n",
        "print(f\"AUC-ROC: {auc_score:.4f}\")"
      ],
      "metadata": {
        "id": "vsY9lq2C_Ybf",
        "colab": {
          "base_uri": "https://localhost:8080/"
        },
        "outputId": "285ec368-05b8-4159-ea3e-354ffeadfc96"
      },
      "execution_count": null,
      "outputs": [
        {
          "output_type": "stream",
          "name": "stdout",
          "text": [
            "AUC-ROC: 0.9762\n"
          ]
        }
      ]
    },
    {
      "cell_type": "markdown",
      "source": [
        "> Interpretación:\n",
        "1. Usamos AUC-ROC para medir la capacidad del modelo para separar las clases positivas y negativas.\n",
        "  * Un valor de 0.9762 nos indica que nuestro modelo es altamente efectivo para distinguir entre opiniones Negativas y No Negativas.\n",
        "  * Debido a que los valores cercanos a 1 son ideales, este resultado que nos proporciona el modelo sugiere que tiene un excelente desempeño.\n"
      ],
      "metadata": {
        "id": "5tHjn0V6s53V"
      }
    },
    {
      "cell_type": "code",
      "source": [
        "# Matriz de confusión\n",
        "conf_matrix = confusion_matrix(y_test, y_pred)\n",
        "\n",
        "plt.figure(figsize=(8, 6))\n",
        "sns.heatmap(conf_matrix, annot=True, fmt='d', cmap='Blues', xticklabels=[\"No Negativo\", \"Negativo\"], yticklabels=[\"No Negativo\", \"Negativo\"])\n",
        "plt.xlabel(\"Predicción\")\n",
        "plt.ylabel(\"Verdadero\")\n",
        "plt.title(\"Matriz de Confusión\")\n",
        "plt.show()"
      ],
      "metadata": {
        "colab": {
          "base_uri": "https://localhost:8080/",
          "height": 564
        },
        "id": "fDJEq4QW_bGz",
        "outputId": "75b6aa99-481e-423a-8f5f-88f5d74b77b7"
      },
      "execution_count": null,
      "outputs": [
        {
          "output_type": "display_data",
          "data": {
            "text/plain": [
              "<Figure size 800x600 with 2 Axes>"
            ],
            "image/png": "[encoded data removed]"
          },
          "metadata": {}
        }
      ]
    },
    {
      "cell_type": "markdown",
      "source": [
        "> Interpretación de la Matriz:\n",
        "1. Verdaderos Positivos (Negativo correctamente clasificados):\n",
        "  * De los 8698 textos negativos reales, el modelo clasificó correctamente 8177 como negativos.\n",
        "  * Esto indica un excelente desempeño al identificar opiniones negativas.\n",
        "2. Verdaderos Negativos (No Negativo correctamente clasificados):\n",
        "  * De los 8356 textos no negativos reales, el modelo clasificó correctamente 7677 como no negativos.\n",
        "  * Este valor también es alto, reflejando que el modelo maneja bien ambas clases.\n",
        "3. Falsos Positivos (No Negativo clasificado como Negativo):\n",
        " * 679 opiniones no negativas fueron mal clasificadas como negativas.\n",
        "4. Falsos Negativos (Negativo clasificado como No Negativo):\n",
        "  * 521 opiniones negativas reales fueron clasificadas como no negativas.\n",
        "  * Este número es menor que los falsos positivos, lo que sugiere que el modelo es más preciso identificando opiniones negativas, algo deseable pues nuestro objetivo era priorizar atención a textos negativos."
      ],
      "metadata": {
        "id": "W9l7hR0uuG1b"
      }
    },
    {
      "cell_type": "markdown",
      "source": [
        "Resumen General del Desempeño:\n",
        "> * Equilibrio de Clases:\n",
        "  * Nuestro modelo tiene un desempeño bien balanceado, ya que los errores (falsos positivos y negativos) están distribuidos de manera proporcional.\n",
        "  * Este balance se refleja en las métricas como precisión, recall y F1, que son consistentes entre ambas clases.\n",
        "* Errores Reducidos:\n",
        "  * La cantidad de falsos negativos (521) y falsos positivos (679) es baja en comparación al total de ejemplos evaluados, indicando una clasificación robusta.\n",
        "* Tendencias Observadas:\n",
        "  * Nuestro modelo tiene una ligera tendencia a clasificar más como negativos que como no negativos, esto se debe a ese balanceo del conjunto de datos que hicimos cargado ligeramente a los negativos.\n"
      ],
      "metadata": {
        "id": "XbRu5YvNvMOO"
      }
    },
    {
      "cell_type": "code",
      "source": [
        "# 3. Métrica Adicional: F1-Score para la clase `Negativo` (1)\n",
        "from sklearn.metrics import f1_score\n",
        "f1_negative = f1_score(y_test, y_pred, pos_label=1)\n",
        "print(f\"F1-Score para la clase 'Negativo' (1): {f1_negative:.4f}\")"
      ],
      "metadata": {
        "colab": {
          "base_uri": "https://localhost:8080/"
        },
        "id": "_NwcgdX-_cpb",
        "outputId": "a4be6a93-c1f3-4fbc-87d8-3fd0442b284b"
      },
      "execution_count": null,
      "outputs": [
        {
          "output_type": "stream",
          "name": "stdout",
          "text": [
            "F1-Score para la clase 'Negativo' (1): 0.9316\n"
          ]
        }
      ]
    },
    {
      "cell_type": "markdown",
      "source": [
        "> Interpretación:\n",
        "* Este valor confirma que nuestro modelo maneja bien las opiniones negativas, logrando un equilibrio entre precisión y recall.\n",
        "* Es particularmente importante dado que nuestro objetivo del análisis es priorizar opiniones negativas para su atención."
      ],
      "metadata": {
        "id": "To9djsENwVRc"
      }
    },
    {
      "cell_type": "markdown",
      "source": [
        "\n",
        "\n",
        "---\n",
        "\n"
      ],
      "metadata": {
        "id": "KSczC_SUKTCo"
      }
    },
    {
      "cell_type": "markdown",
      "source": [
        "---\n",
        "---"
      ],
      "metadata": {
        "id": "XwT_-CPbhNe-"
      }
    },
    {
      "cell_type": "markdown",
      "source": [
        "## **12. PROBANDO EL MODELO**"
      ],
      "metadata": {
        "id": "IbQQNTW5heNR"
      }
    },
    {
      "cell_type": "markdown",
      "source": [
        "\n",
        "\n",
        "> En caso de usar un modelo descargado, descomenta las lineas necesarias para proceder, en caso dado solo con ejecutar desde la carga del archivo test y evauar con el modelo que se entreno en el momento.\n",
        "\n",
        "\n",
        "\n",
        "> Puede tomar el modelo entrenado (para esta tarea con BERT) que se guardo para poder ejecutarlo para pruebas o evaluarlo con otro conjunto de datos, el cual puede ser deescargado de la siguienta liga: https://drive.google.com/file/d/1l2UQKbUJu4p9oMId-WZPinjCQIyl1nvZ/view?usp=drive_link\n"
      ],
      "metadata": {
        "id": "eYuKYDRH-FxX"
      }
    },
    {
      "cell_type": "code",
      "source": [
        "#!unzip saved_model_albert.zip -d ./models  #DESCOMENTA EN CASO DE NECESITARLO"
      ],
      "metadata": {
        "colab": {
          "base_uri": "https://localhost:8080/"
        },
        "id": "w0doMsmainGH",
        "outputId": "ee5771fc-22b5-4464-9e6f-bcaac82f8a46"
      },
      "execution_count": 3,
      "outputs": [
        {
          "output_type": "stream",
          "name": "stdout",
          "text": [
            "Archive:  saved_model_albert.zip\n",
            "   creating: ./models/saved_model_albert_1_PLN/\n",
            "  inflating: ./models/saved_model_albert_1_PLN/tokenizer_config.json  \n",
            "  inflating: ./models/saved_model_albert_1_PLN/special_tokens_map.json  \n",
            "  inflating: ./models/saved_model_albert_1_PLN/tokenizer.json  \n",
            "  inflating: ./models/saved_model_albert_1_PLN/model.safetensors  \n",
            "  inflating: ./models/saved_model_albert_1_PLN/config.json  \n",
            "  inflating: ./models/saved_model_albert_1_PLN/spiece.model  \n"
          ]
        }
      ]
    },
    {
      "cell_type": "markdown",
      "source": [
        "Limpiamos cache"
      ],
      "metadata": {
        "id": "OD28peo44Sea"
      }
    },
    {
      "cell_type": "code",
      "source": [
        "import torch\n",
        "\n",
        "torch.cuda.empty_cache()"
      ],
      "metadata": {
        "id": "L87xOTP0-cId"
      },
      "execution_count": 6,
      "outputs": []
    },
    {
      "cell_type": "markdown",
      "source": [
        "Evaluando el tipo de procesador a usar"
      ],
      "metadata": {
        "id": "yntCmRNs4WQz"
      }
    },
    {
      "cell_type": "code",
      "source": [
        "# Verificar si se dispone de GPU\n",
        "device = torch.device(\"cuda\" if torch.cuda.is_available() else \"cpu\")  #DESCOMENTA EN CASO DE NECESITARLO\n",
        "print(\"Usando dispositivo:\", device)   #DESCOMENTA EN CASO DE NECESITARLO"
      ],
      "metadata": {
        "colab": {
          "base_uri": "https://localhost:8080/"
        },
        "id": "cWQowmiIjXDJ",
        "outputId": "5925b0bd-e146-4cb4-88ef-8387af7eca80"
      },
      "execution_count": 7,
      "outputs": [
        {
          "output_type": "stream",
          "name": "stdout",
          "text": [
            "Usando dispositivo: cuda\n"
          ]
        }
      ]
    },
    {
      "cell_type": "markdown",
      "source": [
        "Usando el modelo cargado anteriormente"
      ],
      "metadata": {
        "id": "1xDHFklP4cev"
      }
    },
    {
      "cell_type": "code",
      "source": [
        "# Ruta donde se guardó el modelo\n",
        "#save_path = \"./models/saved_model_albert_1_PLN\"  #DESCOMENTA EN CASO DE NECESITARLO\n",
        "\n",
        "# Cargar el modelo y el tokenizer\n",
        "#tokenizer = AutoTokenizer.from_pretrained(save_path)  #DESCOMENTA EN CASO DE NECESITARLO\n",
        "#model = AutoModelForSequenceClassification.from_pretrained(save_path).to(device)  #DESCOMENTA EN CASO DE NECESITARLO"
      ],
      "metadata": {
        "id": "7VyGgcosh41b"
      },
      "execution_count": 8,
      "outputs": []
    },
    {
      "cell_type": "markdown",
      "source": [
        "\n",
        "---"
      ],
      "metadata": {
        "id": "-0kDazIpvd9k"
      }
    },
    {
      "cell_type": "markdown",
      "source": [
        "Probando el modelo con ejemplos rapidos:"
      ],
      "metadata": {
        "id": "kHo3BPyOvZ21"
      }
    },
    {
      "cell_type": "code",
      "source": [
        "# Preparar los nuevos datos\n",
        "new_texts = [\"plenty articles written danger disease 's caused chinese made dog treats treats made china plenty healthy usa made treats available avoid costs latest information released tried return amazon said please buy treats.\",\n",
        "             \"ww great n't get wrong still enjoy regular chips best close second great price\",\n",
        "             \"since discovered product amazon 's turning back love pumpkin seeds local grocery stores going wonder happened pumpkin seed customer habit clearing shelves pumpkin seeds every time shopped stores\",\n",
        "             \"Since we discovered this product through Amazon, there's no turning back.  We love these pumpkin seeds.  Our local grocery stores are going to wonder what happened to the pumpkin seed customer, because we were in the habit of clearing the shelves of pumpkin seeds every time we shopped in the stores.\"]\n",
        "new_encodings = tokenizer(new_texts, truncation=True, padding=True, max_length=256, return_tensors=\"pt\").to(device)\n",
        "\n",
        "# Hacer predicciones\n",
        "model.eval()  # Poner el modelo en modo de evaluación\n",
        "with torch.no_grad():\n",
        "    outputs = model(**new_encodings)\n",
        "    predictions = torch.argmax(outputs.logits, axis=-1)\n",
        "\n",
        "# Mostrar las predicciones\n",
        "print(\"Predicciones:\", predictions)"
      ],
      "metadata": {
        "colab": {
          "base_uri": "https://localhost:8080/"
        },
        "id": "fH0EYFSZsPfS",
        "outputId": "39774110-34f3-4bf9-c7be-4d77cd0f8715"
      },
      "execution_count": 9,
      "outputs": [
        {
          "output_type": "stream",
          "name": "stdout",
          "text": [
            "Predicciones: tensor([1, 0, 0, 0], device='cuda:0')\n"
          ]
        }
      ]
    },
    {
      "cell_type": "markdown",
      "source": [
        "\n",
        "---"
      ],
      "metadata": {
        "id": "qHsg10uDvhEj"
      }
    },
    {
      "cell_type": "markdown",
      "source": [
        "### **Evaluando el modelo con el dataset que se proporcione para test:**"
      ],
      "metadata": {
        "id": "usbblJOb4oi6"
      }
    },
    {
      "cell_type": "markdown",
      "source": [
        "Descargando el archivo test para evaluar"
      ],
      "metadata": {
        "id": "Or1iRpzJ-9PT"
      }
    },
    {
      "cell_type": "markdown",
      "source": [
        "\n",
        "\n",
        "> puede tomar los archivos desde:\n",
        "* sample_test : https://drive.google.com/file/d/19uttMgBux86iM2gptOSP0WDGbqrvddcP/view?usp=drive_link (Con etiquetas para test, con lo que se evaluo al final)\n",
        "* test: https://drive.google.com/file/d/1H6IWH-UyWjo-O5HHpqyXOpWE2TRvF-dK/view?usp=drive_link (sin etiquetas, proporcionada por el profesor)\n",
        "\n"
      ],
      "metadata": {
        "id": "hDDRfI0dZa0z"
      }
    },
    {
      "cell_type": "code",
      "source": [
        "#df_val = pd.read_csv('sample_test.csv')  # Archivo con etiquetas para evaluar el modelo\n",
        "df_val = pd.read_csv('test.csv') # El proporcionado por el profe\n",
        "df_val"
      ],
      "metadata": {
        "colab": {
          "base_uri": "https://localhost:8080/",
          "height": 423
        },
        "id": "gVdfj-vvdA4b",
        "outputId": "6e63edfd-9890-42bb-da32-8c890d75b517"
      },
      "execution_count": 10,
      "outputs": [
        {
          "output_type": "execute_result",
          "data": {
            "text/plain": [
              "       Unnamed: 0                                          Summary  \\\n",
              "0               0                   Very pleased with this product   \n",
              "1               1                                            Great   \n",
              "2               2           Fat free and taste free, sorry to say!   \n",
              "3               3                                      good stuff!   \n",
              "4               4               HOW CAN YOU GO WRONG WITH GREENIES   \n",
              "...           ...                                              ...   \n",
              "85262       85262                               Poisons from China   \n",
              "85263       85263  Rich, Robust Flavor, and other good stuff, too.   \n",
              "85264       85264                                        Green tea   \n",
              "85265       85265                           Bigelow Chai Green Tea   \n",
              "85266       85266                   Made in China- won't buy again   \n",
              "\n",
              "                                                    Text  Score  Negative  \n",
              "0      Since we discovered this product through Amazo...      5         0  \n",
              "1      My dogs have loved this product for 22+ Years....      5         0  \n",
              "2      REally wanted to like this but it has no taste...      1         1  \n",
              "3      I really enjoy this product--I just purchased ...      5         0  \n",
              "4      Greenies are a great way to train your cat. If...      5         0  \n",
              "...                                                  ...    ...       ...  \n",
              "85262  I purchase almost daily from Amazon and recomm...      1         1  \n",
              "85263  The following are quotes from the box of Marle...      5         0  \n",
              "85264  I'm new to green tea so I purchased this produ...      3         0  \n",
              "85265  What I was expecting was a chai tea similar to...      1         1  \n",
              "85266  I saw \"Japonica rice\" and made the mistake of ...      2         1  \n",
              "\n",
              "[85267 rows x 5 columns]"
            ],
            "text/html": [
              "\n",
              "  <div id=\"df-d902132f-2096-42b9-aa10-bd9511b41f4a\" class=\"colab-df-container\">\n",
              "    <div>\n",
              "<style scoped>\n",
              "    .dataframe tbody tr th:only-of-type {\n",
              "        vertical-align: middle;\n",
              "    }\n",
              "\n",
              "    .dataframe tbody tr th {\n",
              "        vertical-align: top;\n",
              "    }\n",
              "\n",
              "    .dataframe thead th {\n",
              "        text-align: right;\n",
              "    }\n",
              "</style>\n",
              "<table border=\"1\" class=\"dataframe\">\n",
              "  <thead>\n",
              "    <tr style=\"text-align: right;\">\n",
              "      <th></th>\n",
              "      <th>Unnamed: 0</th>\n",
              "      <th>Summary</th>\n",
              "      <th>Text</th>\n",
              "      <th>Score</th>\n",
              "      <th>Negative</th>\n",
              "    </tr>\n",
              "  </thead>\n",
              "  <tbody>\n",
              "    <tr>\n",
              "      <th>0</th>\n",
              "      <td>0</td>\n",
              "      <td>Very pleased with this product</td>\n",
              "      <td>Since we discovered this product through Amazo...</td>\n",
              "      <td>5</td>\n",
              "      <td>0</td>\n",
              "    </tr>\n",
              "    <tr>\n",
              "      <th>1</th>\n",
              "      <td>1</td>\n",
              "      <td>Great</td>\n",
              "      <td>My dogs have loved this product for 22+ Years....</td>\n",
              "      <td>5</td>\n",
              "      <td>0</td>\n",
              "    </tr>\n",
              "    <tr>\n",
              "      <th>2</th>\n",
              "      <td>2</td>\n",
              "      <td>Fat free and taste free, sorry to say!</td>\n",
              "      <td>REally wanted to like this but it has no taste...</td>\n",
              "      <td>1</td>\n",
              "      <td>1</td>\n",
              "    </tr>\n",
              "    <tr>\n",
              "      <th>3</th>\n",
              "      <td>3</td>\n",
              "      <td>good stuff!</td>\n",
              "      <td>I really enjoy this product--I just purchased ...</td>\n",
              "      <td>5</td>\n",
              "      <td>0</td>\n",
              "    </tr>\n",
              "    <tr>\n",
              "      <th>4</th>\n",
              "      <td>4</td>\n",
              "      <td>HOW CAN YOU GO WRONG WITH GREENIES</td>\n",
              "      <td>Greenies are a great way to train your cat. If...</td>\n",
              "      <td>5</td>\n",
              "      <td>0</td>\n",
              "    </tr>\n",
              "    <tr>\n",
              "      <th>...</th>\n",
              "      <td>...</td>\n",
              "      <td>...</td>\n",
              "      <td>...</td>\n",
              "      <td>...</td>\n",
              "      <td>...</td>\n",
              "    </tr>\n",
              "    <tr>\n",
              "      <th>85262</th>\n",
              "      <td>85262</td>\n",
              "      <td>Poisons from China</td>\n",
              "      <td>I purchase almost daily from Amazon and recomm...</td>\n",
              "      <td>1</td>\n",
              "      <td>1</td>\n",
              "    </tr>\n",
              "    <tr>\n",
              "      <th>85263</th>\n",
              "      <td>85263</td>\n",
              "      <td>Rich, Robust Flavor, and other good stuff, too.</td>\n",
              "      <td>The following are quotes from the box of Marle...</td>\n",
              "      <td>5</td>\n",
              "      <td>0</td>\n",
              "    </tr>\n",
              "    <tr>\n",
              "      <th>85264</th>\n",
              "      <td>85264</td>\n",
              "      <td>Green tea</td>\n",
              "      <td>I'm new to green tea so I purchased this produ...</td>\n",
              "      <td>3</td>\n",
              "      <td>0</td>\n",
              "    </tr>\n",
              "    <tr>\n",
              "      <th>85265</th>\n",
              "      <td>85265</td>\n",
              "      <td>Bigelow Chai Green Tea</td>\n",
              "      <td>What I was expecting was a chai tea similar to...</td>\n",
              "      <td>1</td>\n",
              "      <td>1</td>\n",
              "    </tr>\n",
              "    <tr>\n",
              "      <th>85266</th>\n",
              "      <td>85266</td>\n",
              "      <td>Made in China- won't buy again</td>\n",
              "      <td>I saw \"Japonica rice\" and made the mistake of ...</td>\n",
              "      <td>2</td>\n",
              "      <td>1</td>\n",
              "    </tr>\n",
              "  </tbody>\n",
              "</table>\n",
              "<p>85267 rows × 5 columns</p>\n",
              "</div>\n",
              "    <div class=\"colab-df-buttons\">\n",
              "\n",
              "  <div class=\"colab-df-container\">\n",
              "    <button class=\"colab-df-convert\" onclick=\"convertToInteractive('df-d902132f-2096-42b9-aa10-bd9511b41f4a')\"\n",
              "            title=\"Convert this dataframe to an interactive table.\"\n",
              "            style=\"display:none;\">\n",
              "\n",
              "  <svg xmlns=\"http://www.w3.org/2000/svg\" height=\"24px\" viewBox=\"0 -960 960 960\">\n",
              "    <path d=\"M120-120v-720h720v720H120Zm60-500h600v-160H180v160Zm220 220h160v-160H400v160Zm0 220h160v-160H400v160ZM180-400h160v-160H180v160Zm440 0h160v-160H620v160ZM180-180h160v-160H180v160Zm440 0h160v-160H620v160Z\"/>\n",
              "  </svg>\n",
              "    </button>\n",
              "\n",
              "  <style>\n",
              "    .colab-df-container {\n",
              "      display:flex;\n",
              "      gap: 12px;\n",
              "    }\n",
              "\n",
              "    .colab-df-convert {\n",
              "      background-color: #E8F0FE;\n",
              "      border: none;\n",
              "      border-radius: 50%;\n",
              "      cursor: pointer;\n",
              "      display: none;\n",
              "      fill: #1967D2;\n",
              "      height: 32px;\n",
              "      padding: 0 0 0 0;\n",
              "      width: 32px;\n",
              "    }\n",
              "\n",
              "    .colab-df-convert:hover {\n",
              "      background-color: #E2EBFA;\n",
              "      box-shadow: 0px 1px 2px rgba(60, 64, 67, 0.3), 0px 1px 3px 1px rgba(60, 64, 67, 0.15);\n",
              "      fill: #174EA6;\n",
              "    }\n",
              "\n",
              "    .colab-df-buttons div {\n",
              "      margin-bottom: 4px;\n",
              "    }\n",
              "\n",
              "    [theme=dark] .colab-df-convert {\n",
              "      background-color: #3B4455;\n",
              "      fill: #D2E3FC;\n",
              "    }\n",
              "\n",
              "    [theme=dark] .colab-df-convert:hover {\n",
              "      background-color: #434B5C;\n",
              "      box-shadow: 0px 1px 3px 1px rgba(0, 0, 0, 0.15);\n",
              "      filter: drop-shadow(0px 1px 2px rgba(0, 0, 0, 0.3));\n",
              "      fill: #FFFFFF;\n",
              "    }\n",
              "  </style>\n",
              "\n",
              "    <script>\n",
              "      const buttonEl =\n",
              "        document.querySelector('#df-d902132f-2096-42b9-aa10-bd9511b41f4a button.colab-df-convert');\n",
              "      buttonEl.style.display =\n",
              "        google.colab.kernel.accessAllowed ? 'block' : 'none';\n",
              "\n",
              "      async function convertToInteractive(key) {\n",
              "        const element = document.querySelector('#df-d902132f-2096-42b9-aa10-bd9511b41f4a');\n",
              "        const dataTable =\n",
              "          await google.colab.kernel.invokeFunction('convertToInteractive',\n",
              "                                                    [key], {});\n",
              "        if (!dataTable) return;\n",
              "\n",
              "        const docLinkHtml = 'Like what you see? Visit the ' +\n",
              "          '<a target=\"_blank\" href=https://colab.research.google.com/notebooks/data_table.ipynb>data table notebook</a>'\n",
              "          + ' to learn more about interactive tables.';\n",
              "        element.innerHTML = '';\n",
              "        dataTable['output_type'] = 'display_data';\n",
              "        await google.colab.output.renderOutput(dataTable, element);\n",
              "        const docLink = document.createElement('div');\n",
              "        docLink.innerHTML = docLinkHtml;\n",
              "        element.appendChild(docLink);\n",
              "      }\n",
              "    </script>\n",
              "  </div>\n",
              "\n",
              "\n",
              "<div id=\"df-5cd0f715-87d8-4bd5-8dfd-f1c69fda9e42\">\n",
              "  <button class=\"colab-df-quickchart\" onclick=\"quickchart('df-5cd0f715-87d8-4bd5-8dfd-f1c69fda9e42')\"\n",
              "            title=\"Suggest charts\"\n",
              "            style=\"display:none;\">\n",
              "\n",
              "<svg xmlns=\"http://www.w3.org/2000/svg\" height=\"24px\"viewBox=\"0 0 24 24\"\n",
              "     width=\"24px\">\n",
              "    <g>\n",
              "        <path d=\"M19 3H5c-1.1 0-2 .9-2 2v14c0 1.1.9 2 2 2h14c1.1 0 2-.9 2-2V5c0-1.1-.9-2-2-2zM9 17H7v-7h2v7zm4 0h-2V7h2v10zm4 0h-2v-4h2v4z\"/>\n",
              "    </g>\n",
              "</svg>\n",
              "  </button>\n",
              "\n",
              "<style>\n",
              "  .colab-df-quickchart {\n",
              "      --bg-color: #E8F0FE;\n",
              "      --fill-color: #1967D2;\n",
              "      --hover-bg-color: #E2EBFA;\n",
              "      --hover-fill-color: #174EA6;\n",
              "      --disabled-fill-color: #AAA;\n",
              "      --disabled-bg-color: #DDD;\n",
              "  }\n",
              "\n",
              "  [theme=dark] .colab-df-quickchart {\n",
              "      --bg-color: #3B4455;\n",
              "      --fill-color: #D2E3FC;\n",
              "      --hover-bg-color: #434B5C;\n",
              "      --hover-fill-color: #FFFFFF;\n",
              "      --disabled-bg-color: #3B4455;\n",
              "      --disabled-fill-color: #666;\n",
              "  }\n",
              "\n",
              "  .colab-df-quickchart {\n",
              "    background-color: var(--bg-color);\n",
              "    border: none;\n",
              "    border-radius: 50%;\n",
              "    cursor: pointer;\n",
              "    display: none;\n",
              "    fill: var(--fill-color);\n",
              "    height: 32px;\n",
              "    padding: 0;\n",
              "    width: 32px;\n",
              "  }\n",
              "\n",
              "  .colab-df-quickchart:hover {\n",
              "    background-color: var(--hover-bg-color);\n",
              "    box-shadow: 0 1px 2px rgba(60, 64, 67, 0.3), 0 1px 3px 1px rgba(60, 64, 67, 0.15);\n",
              "    fill: var(--button-hover-fill-color);\n",
              "  }\n",
              "\n",
              "  .colab-df-quickchart-complete:disabled,\n",
              "  .colab-df-quickchart-complete:disabled:hover {\n",
              "    background-color: var(--disabled-bg-color);\n",
              "    fill: var(--disabled-fill-color);\n",
              "    box-shadow: none;\n",
              "  }\n",
              "\n",
              "  .colab-df-spinner {\n",
              "    border: 2px solid var(--fill-color);\n",
              "    border-color: transparent;\n",
              "    border-bottom-color: var(--fill-color);\n",
              "    animation:\n",
              "      spin 1s steps(1) infinite;\n",
              "  }\n",
              "\n",
              "  @keyframes spin {\n",
              "    0% {\n",
              "      border-color: transparent;\n",
              "      border-bottom-color: var(--fill-color);\n",
              "      border-left-color: var(--fill-color);\n",
              "    }\n",
              "    20% {\n",
              "      border-color: transparent;\n",
              "      border-left-color: var(--fill-color);\n",
              "      border-top-color: var(--fill-color);\n",
              "    }\n",
              "    30% {\n",
              "      border-color: transparent;\n",
              "      border-left-color: var(--fill-color);\n",
              "      border-top-color: var(--fill-color);\n",
              "      border-right-color: var(--fill-color);\n",
              "    }\n",
              "    40% {\n",
              "      border-color: transparent;\n",
              "      border-right-color: var(--fill-color);\n",
              "      border-top-color: var(--fill-color);\n",
              "    }\n",
              "    60% {\n",
              "      border-color: transparent;\n",
              "      border-right-color: var(--fill-color);\n",
              "    }\n",
              "    80% {\n",
              "      border-color: transparent;\n",
              "      border-right-color: var(--fill-color);\n",
              "      border-bottom-color: var(--fill-color);\n",
              "    }\n",
              "    90% {\n",
              "      border-color: transparent;\n",
              "      border-bottom-color: var(--fill-color);\n",
              "    }\n",
              "  }\n",
              "</style>\n",
              "\n",
              "  <script>\n",
              "    async function quickchart(key) {\n",
              "      const quickchartButtonEl =\n",
              "        document.querySelector('#' + key + ' button');\n",
              "      quickchartButtonEl.disabled = true;  // To prevent multiple clicks.\n",
              "      quickchartButtonEl.classList.add('colab-df-spinner');\n",
              "      try {\n",
              "        const charts = await google.colab.kernel.invokeFunction(\n",
              "            'suggestCharts', [key], {});\n",
              "      } catch (error) {\n",
              "        console.error('Error during call to suggestCharts:', error);\n",
              "      }\n",
              "      quickchartButtonEl.classList.remove('colab-df-spinner');\n",
              "      quickchartButtonEl.classList.add('colab-df-quickchart-complete');\n",
              "    }\n",
              "    (() => {\n",
              "      let quickchartButtonEl =\n",
              "        document.querySelector('#df-5cd0f715-87d8-4bd5-8dfd-f1c69fda9e42 button');\n",
              "      quickchartButtonEl.style.display =\n",
              "        google.colab.kernel.accessAllowed ? 'block' : 'none';\n",
              "    })();\n",
              "  </script>\n",
              "</div>\n",
              "\n",
              "  <div id=\"id_f88a73d6-40cf-4f7b-bdbf-d29cfa03d3bd\">\n",
              "    <style>\n",
              "      .colab-df-generate {\n",
              "        background-color: #E8F0FE;\n",
              "        border: none;\n",
              "        border-radius: 50%;\n",
              "        cursor: pointer;\n",
              "        display: none;\n",
              "        fill: #1967D2;\n",
              "        height: 32px;\n",
              "        padding: 0 0 0 0;\n",
              "        width: 32px;\n",
              "      }\n",
              "\n",
              "      .colab-df-generate:hover {\n",
              "        background-color: #E2EBFA;\n",
              "        box-shadow: 0px 1px 2px rgba(60, 64, 67, 0.3), 0px 1px 3px 1px rgba(60, 64, 67, 0.15);\n",
              "        fill: #174EA6;\n",
              "      }\n",
              "\n",
              "      [theme=dark] .colab-df-generate {\n",
              "        background-color: #3B4455;\n",
              "        fill: #D2E3FC;\n",
              "      }\n",
              "\n",
              "      [theme=dark] .colab-df-generate:hover {\n",
              "        background-color: #434B5C;\n",
              "        box-shadow: 0px 1px 3px 1px rgba(0, 0, 0, 0.15);\n",
              "        filter: drop-shadow(0px 1px 2px rgba(0, 0, 0, 0.3));\n",
              "        fill: #FFFFFF;\n",
              "      }\n",
              "    </style>\n",
              "    <button class=\"colab-df-generate\" onclick=\"generateWithVariable('df_val')\"\n",
              "            title=\"Generate code using this dataframe.\"\n",
              "            style=\"display:none;\">\n",
              "\n",
              "  <svg xmlns=\"http://www.w3.org/2000/svg\" height=\"24px\"viewBox=\"0 0 24 24\"\n",
              "       width=\"24px\">\n",
              "    <path d=\"M7,19H8.4L18.45,9,17,7.55,7,17.6ZM5,21V16.75L18.45,3.32a2,2,0,0,1,2.83,0l1.4,1.43a1.91,1.91,0,0,1,.58,1.4,1.91,1.91,0,0,1-.58,1.4L9.25,21ZM18.45,9,17,7.55Zm-12,3A5.31,5.31,0,0,0,4.9,8.1,5.31,5.31,0,0,0,1,6.5,5.31,5.31,0,0,0,4.9,4.9,5.31,5.31,0,0,0,6.5,1,5.31,5.31,0,0,0,8.1,4.9,5.31,5.31,0,0,0,12,6.5,5.46,5.46,0,0,0,6.5,12Z\"/>\n",
              "  </svg>\n",
              "    </button>\n",
              "    <script>\n",
              "      (() => {\n",
              "      const buttonEl =\n",
              "        document.querySelector('#id_f88a73d6-40cf-4f7b-bdbf-d29cfa03d3bd button.colab-df-generate');\n",
              "      buttonEl.style.display =\n",
              "        google.colab.kernel.accessAllowed ? 'block' : 'none';\n",
              "\n",
              "      buttonEl.onclick = () => {\n",
              "        google.colab.notebook.generateWithVariable('df_val');\n",
              "      }\n",
              "      })();\n",
              "    </script>\n",
              "  </div>\n",
              "\n",
              "    </div>\n",
              "  </div>\n"
            ],
            "application/vnd.google.colaboratory.intrinsic+json": {
              "type": "dataframe",
              "variable_name": "df_val",
              "summary": "{\n  \"name\": \"df_val\",\n  \"rows\": 85267,\n  \"fields\": [\n    {\n      \"column\": \"Unnamed: 0\",\n      \"properties\": {\n        \"dtype\": \"number\",\n        \"std\": 24614,\n        \"min\": 0,\n        \"max\": 85266,\n        \"num_unique_values\": 85267,\n        \"samples\": [\n          69970,\n          47338,\n          13178\n        ],\n        \"semantic_type\": \"\",\n        \"description\": \"\"\n      }\n    },\n    {\n      \"column\": \"Summary\",\n      \"properties\": {\n        \"dtype\": \"string\",\n        \"num_unique_values\": 60243,\n        \"samples\": [\n          \"Papaya Mask\",\n          \"Cat loves it!\",\n          \"way too sour\"\n        ],\n        \"semantic_type\": \"\",\n        \"description\": \"\"\n      }\n    },\n    {\n      \"column\": \"Text\",\n      \"properties\": {\n        \"dtype\": \"string\",\n        \"num_unique_values\": 71928,\n        \"samples\": [\n          \"I had never tried lara bars before and I loved them!  Seller was speedy and efficient.  A+++!!\",\n          \"worst product I ever tasted, I had to dispose of it.<br />I don't recommend this product to anyone, not tasty, I doubt its healthy, and it is overpriced!\",\n          \"I had the best ice tea ever at a bar and grill (Chuy's) in Phoenix Arizona.<br />I inquired and found that they used Farmer Brother's Ice Tea.<br />Now, I can enjoy the best ice tea ever at home!\"\n        ],\n        \"semantic_type\": \"\",\n        \"description\": \"\"\n      }\n    },\n    {\n      \"column\": \"Score\",\n      \"properties\": {\n        \"dtype\": \"number\",\n        \"std\": 1,\n        \"min\": 1,\n        \"max\": 5,\n        \"num_unique_values\": 5,\n        \"samples\": [\n          1,\n          3,\n          2\n        ],\n        \"semantic_type\": \"\",\n        \"description\": \"\"\n      }\n    },\n    {\n      \"column\": \"Negative\",\n      \"properties\": {\n        \"dtype\": \"number\",\n        \"std\": 0,\n        \"min\": 0,\n        \"max\": 1,\n        \"num_unique_values\": 2,\n        \"samples\": [\n          1,\n          0\n        ],\n        \"semantic_type\": \"\",\n        \"description\": \"\"\n      }\n    }\n  ]\n}"
            }
          },
          "metadata": {},
          "execution_count": 10
        }
      ]
    },
    {
      "cell_type": "markdown",
      "source": [
        "Obteniendo los textos a evaluar"
      ],
      "metadata": {
        "id": "ULJuLzwg_AUE"
      }
    },
    {
      "cell_type": "code",
      "source": [
        "#text_list = df_val[\"Text\"].head(7100).tolist()\n",
        "text_list = df_val[\"Text\"].tolist()\n",
        "#print(text_list)"
      ],
      "metadata": {
        "id": "qlfu1F5z6TY3"
      },
      "execution_count": 11,
      "outputs": []
    },
    {
      "cell_type": "markdown",
      "source": [
        "\n",
        "\n",
        "> Para ejecutar la siguinte linea es necesario que se ejecute previamente las linas de codigo de las seccion **5. Limpieza y Preprocesamiento** (esto en caso que se haya procedido a trabajar bajo un modelo guardado), para proceder a realizar el tratamiento de los textos a evaluar con el modelo.\n",
        "\n"
      ],
      "metadata": {
        "id": "fznf3YbW_Gkk"
      }
    },
    {
      "cell_type": "code",
      "source": [
        "text_evaluation = preprocess_data(text_list)\n",
        "new_encodings = tokenizer(list(text_evaluation), truncation=True, padding=True, max_length=256, return_tensors=\"pt\").to(device)"
      ],
      "metadata": {
        "colab": {
          "base_uri": "https://localhost:8080/"
        },
        "id": "BsVhvbFPvk40",
        "outputId": "b3859fe9-753c-41e9-c79b-092a0c8436d0"
      },
      "execution_count": 12,
      "outputs": [
        {
          "output_type": "stream",
          "name": "stderr",
          "text": [
            "<ipython-input-5-a98d433aeefd>:17: MarkupResemblesLocatorWarning: The input looks more like a filename than markup. You may want to open this file and pass the filehandle into Beautiful Soup.\n",
            "  text = BeautifulSoup(text, \"html.parser\").get_text()\n"
          ]
        }
      ]
    },
    {
      "cell_type": "code",
      "source": [
        "from torch.utils.data import DataLoader, TensorDataset\n",
        "\n",
        "# Creando un DataLoader para dividir los datos en lotes pequeños\n",
        "batch_size = 16  # Ajustando según la capacidad de tu GPU\n",
        "dataset = TensorDataset(new_encodings['input_ids'], new_encodings['attention_mask'])\n",
        "dataloader = DataLoader(dataset, batch_size=batch_size)\n",
        "\n",
        "all_predictions = []\n",
        "\n",
        "model.eval()  # Modo evaluación\n",
        "with torch.no_grad():\n",
        "    for batch in dataloader:\n",
        "        # Extrayendo lotes de input_ids y attention_mask\n",
        "        input_ids, attention_mask = batch\n",
        "        input_ids = input_ids.to(device)\n",
        "        attention_mask = attention_mask.to(device)\n",
        "\n",
        "        # Realizando predicciones para el lote\n",
        "        outputs = model(input_ids=input_ids, attention_mask=attention_mask)\n",
        "        predictions = torch.argmax(outputs.logits, axis=-1)\n",
        "\n",
        "        # Guardando las predicciones en una lista\n",
        "        all_predictions.extend(predictions.cpu().numpy())"
      ],
      "metadata": {
        "id": "oA3M9QkdXzQT"
      },
      "execution_count": 13,
      "outputs": []
    },
    {
      "cell_type": "markdown",
      "source": [
        "### **13. Guardando los resultados**"
      ],
      "metadata": {
        "id": "XmpXF8EJZkYz"
      }
    },
    {
      "cell_type": "code",
      "source": [
        "# Convertiendo las predicciones a una lista que contiene los valores predichos (0 o 1)\n",
        "#predictions_list = predictions.tolist() if hasattr(predictions, \"tolist\") else list(predictions)\n",
        "\n",
        "# Creando un DataFrame con las predicciones\n",
        "df_predictions = pd.DataFrame(all_predictions, columns=[\"Prediction\"])\n",
        "\n",
        "# Guardando el DataFrame en un archivo CSV\n",
        "output_csv_path = \"predictions.csv\"\n",
        "df_predictions.to_csv(output_csv_path, index=False, header=False)\n",
        "\n",
        "print(f\"Archivo CSV guardado en: {output_csv_path}\")"
      ],
      "metadata": {
        "colab": {
          "base_uri": "https://localhost:8080/"
        },
        "id": "nw4YJ1MGZHTG",
        "outputId": "054065e0-b2d7-4d56-8d65-0035c6b57c73"
      },
      "execution_count": null,
      "outputs": [
        {
          "output_type": "stream",
          "name": "stdout",
          "text": [
            "Archivo CSV guardado en: predictions.csv\n"
          ]
        }
      ]
    },
    {
      "cell_type": "markdown",
      "source": [
        "\n",
        "\n",
        "---\n",
        "\n",
        "\n",
        "\n",
        "---\n",
        "\n"
      ],
      "metadata": {
        "id": "Zi7MiQMjBCNy"
      }
    },
    {
      "cell_type": "markdown",
      "source": [
        "> Esta parte correrla solo si se tiene las etiquetas para testear y evaluar el modelo.\n",
        "\n"
      ],
      "metadata": {
        "id": "JmZ97vVqBAqX"
      }
    },
    {
      "cell_type": "code",
      "source": [
        "label_list = df_val[\"Negative\"].head(7100).tolist()\n",
        "predictions_list = all_predictions"
      ],
      "metadata": {
        "id": "Aim9pdLEBIvI"
      },
      "execution_count": 14,
      "outputs": []
    },
    {
      "cell_type": "code",
      "source": [
        "# Reporte de clasificación\n",
        "print(\"Reporte de Clasificación:\")\n",
        "print(classification_report(label_list, predictions_list, target_names=[\"No Negativo\", \"Negativo\"]))"
      ],
      "metadata": {
        "colab": {
          "base_uri": "https://localhost:8080/"
        },
        "id": "0095mPqeBJj7",
        "outputId": "21508ee0-80be-453c-bd2e-454a7919ffa3"
      },
      "execution_count": 16,
      "outputs": [
        {
          "output_type": "stream",
          "name": "stdout",
          "text": [
            "Reporte de Clasificación:\n",
            "              precision    recall  f1-score   support\n",
            "\n",
            " No Negativo       0.97      0.96      0.96      3497\n",
            "    Negativo       0.96      0.97      0.97      3603\n",
            "\n",
            "    accuracy                           0.96      7100\n",
            "   macro avg       0.96      0.96      0.96      7100\n",
            "weighted avg       0.96      0.96      0.96      7100\n",
            "\n"
          ]
        }
      ]
    },
    {
      "cell_type": "markdown",
      "source": [
        "\n",
        "> Los resultados anteriores fueron con datos de otro dataset de muestra para poder evaluar el modelo\n"
      ],
      "metadata": {
        "id": "02KobN4fDaSi"
      }
    },
    {
      "cell_type": "markdown",
      "source": [
        "\n",
        "\n",
        "---\n",
        "\n",
        "\n",
        "\n",
        "---\n",
        "\n"
      ],
      "metadata": {
        "id": "73jO6k8RzdW_"
      }
    },
    {
      "cell_type": "markdown",
      "source": [
        "## 14. Resumen General del Comportamiento del Modelo\n",
        "1. Desempeño Global:\n",
        "  * Este modelo BERT logró un excelente desempeño con una exactitud del 96% en datos no vistos previamente.\n",
        "  * Ambas clases (No Negativo y Negativo) fueron clasificadas con un alto nivel de precisión y recall, mostrando un balance sólido.\n",
        "2. Desempeño en Opiniones Negativas:\n",
        "  * El modelo destacó al identificar opiniones negativas con un F1-score del 97%, lo que es clave si nuestro objetivo era priorizar atención a comentarios negativos.\n",
        "3. Desempeño en Opiniones No Negativas:\n",
        "  * Aunque ligeramente menor, el desempeño para esta clase también fue sobresaliente con un F1-score del 96%.\n",
        "4. Errores Cometidos:\n",
        "  * Falsos positivos: Un pequeño porcentaje de opiniones no negativas fueron clasificadas como negativas.\n",
        "  * Falsos negativos: Un porcentaje aún menor de opiniones negativas fue mal clasificado como no negativo, lo cual es aceptable para esta tarea.\n",
        "5. Balance entre Clases:\n",
        "  * El modelo manejó muy bien el balance de clases, lo cual es confirmado por métricas como el macro promedio (96%).\n",
        "3. Capacidad de Generalización:\n",
        "  * El desempeño en datos nuevos sugiere que el modelo está bien generalizado y no muestra signos evidentes de overfitting.\n"
      ],
      "metadata": {
        "id": "4Te1HuquxtjX"
      }
    }
  ]
}